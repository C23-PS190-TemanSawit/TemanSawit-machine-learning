{
  "nbformat": 4,
  "nbformat_minor": 0,
  "metadata": {
    "colab": {
      "provenance": [],
      "gpuType": "T4"
    },
    "kernelspec": {
      "name": "python3",
      "display_name": "Python 3"
    },
    "language_info": {
      "name": "python"
    },
    "accelerator": "GPU"
  },
  "cells": [
    {
      "cell_type": "markdown",
      "source": [
        "# Connect to drive\n",
        "\n",
        "### Run the cells below one by one!"
      ],
      "metadata": {
        "id": "KOGPUuw3FEBt"
      }
    },
    {
      "cell_type": "code",
      "execution_count": null,
      "metadata": {
        "colab": {
          "base_uri": "https://localhost:8080/"
        },
        "id": "iCVodJfrE5Si",
        "outputId": "f1adc956-8146-4b4f-e7c0-f842904c9774"
      },
      "outputs": [
        {
          "output_type": "stream",
          "name": "stdout",
          "text": [
            "\n",
            "WARNING: apt does not have a stable CLI interface. Use with caution in scripts.\n",
            "\n",
            "debconf: unable to initialize frontend: Dialog\n",
            "debconf: (No usable dialog-like program is installed, so the dialog based frontend cannot be used. at /usr/share/perl5/Debconf/FrontEnd/Dialog.pm line 76, <> line 1.)\n",
            "debconf: falling back to frontend: Readline\n",
            "debconf: unable to initialize frontend: Readline\n",
            "debconf: (This frontend requires a controlling tty.)\n",
            "debconf: falling back to frontend: Teletype\n",
            "dpkg-preconfigure: unable to re-open stdin: \n",
            "/usr/bin/xdg-open: 869: www-browser: not found\n",
            "/usr/bin/xdg-open: 869: links2: not found\n",
            "/usr/bin/xdg-open: 869: elinks: not found\n",
            "/usr/bin/xdg-open: 869: links: not found\n",
            "/usr/bin/xdg-open: 869: lynx: not found\n",
            "/usr/bin/xdg-open: 869: w3m: not found\n",
            "xdg-open: no method available for opening 'https://accounts.google.com/o/oauth2/auth?client_id=564921029129.apps.googleusercontent.com&redirect_uri=https%3A%2F%2Fgd-ocaml-auth.appspot.com%2Foauth2callback&scope=https%3A%2F%2Fwww.googleapis.com%2Fauth%2Fdrive&response_type=code&access_type=offline&approval_prompt=force&state=U7GWaKtS8SKlrVzNGZZFPYiV1JHwybMhnBdIvKmxzyg'\n",
            "/bin/sh: 1: firefox: not found\n",
            "/bin/sh: 1: google-chrome: not found\n",
            "/bin/sh: 1: chromium-browser: not found\n",
            "/bin/sh: 1: open: not found\n",
            "Cannot retrieve auth tokens.\n",
            "Failure(\"Error opening URL:https://accounts.google.com/o/oauth2/auth?client_id=564921029129.apps.googleusercontent.com&redirect_uri=https%3A%2F%2Fgd-ocaml-auth.appspot.com%2Foauth2callback&scope=https%3A%2F%2Fwww.googleapis.com%2Fauth%2Fdrive&response_type=code&access_type=offline&approval_prompt=force&state=U7GWaKtS8SKlrVzNGZZFPYiV1JHwybMhnBdIvKmxzyg\")\n"
          ]
        }
      ],
      "source": [
        "!sudo add-apt-repository -y ppa:alessandro-strada/ppa 2>&1 > /dev/null\n",
        "!sudo apt-get update -qq 2>&1 > /dev/null\n",
        "!sudo apt -y install -qq google-drive-ocamlfuse 2>&1 > /dev/null\n",
        "!google-drive-ocamlfuse"
      ]
    },
    {
      "cell_type": "code",
      "source": [
        "!sudo apt-get install -qq w3m # to act as web browser\n",
        "!xdg-settings set default-web-browser w3m.desktop # to set default browser\n",
        "%cd /content\n",
        "!mkdir drive\n",
        "%cd drive\n",
        "!mkdir MyDrive\n",
        "%cd ..\n",
        "%cd ..\n",
        "!google-drive-ocamlfuse /content/drive/MyDrive"
      ],
      "metadata": {
        "colab": {
          "base_uri": "https://localhost:8080/"
        },
        "id": "NsGookmYFF-9",
        "outputId": "61ce79c6-cad6-49a0-862b-5c1de7ebf2e3"
      },
      "execution_count": null,
      "outputs": [
        {
          "output_type": "stream",
          "name": "stdout",
          "text": [
            "debconf: unable to initialize frontend: Dialog\n",
            "debconf: (No usable dialog-like program is installed, so the dialog based frontend cannot be used. at /usr/share/perl5/Debconf/FrontEnd/Dialog.pm line 76, <> line 1.)\n",
            "debconf: falling back to frontend: Readline\n",
            "debconf: unable to initialize frontend: Readline\n",
            "debconf: (This frontend requires a controlling tty.)\n",
            "debconf: falling back to frontend: Teletype\n",
            "dpkg-preconfigure: unable to re-open stdin: \n",
            "Selecting previously unselected package w3m.\n",
            "(Reading database ... 122550 files and directories currently installed.)\n",
            "Preparing to unpack .../w3m_0.5.3-37ubuntu0.1_amd64.deb ...\n",
            "Unpacking w3m (0.5.3-37ubuntu0.1) ...\n",
            "Setting up w3m (0.5.3-37ubuntu0.1) ...\n",
            "Processing triggers for man-db (2.9.1-1) ...\n",
            "Processing triggers for mime-support (3.64ubuntu1) ...\n",
            "/content\n",
            "/content/drive\n",
            "/content\n",
            "/\n",
            "Access token retrieved correctly.\n"
          ]
        }
      ]
    },
    {
      "cell_type": "markdown",
      "source": [
        "# Import libraries & Preparation"
      ],
      "metadata": {
        "id": "u7rUTo_tHSkI"
      }
    },
    {
      "cell_type": "code",
      "source": [
        "import tensorflow as tf\n",
        "from tensorflow.keras.preprocessing.image import ImageDataGenerator\n",
        "from tensorflow.keras.models import Sequential\n",
        "from tensorflow.keras.layers import Input, Conv2D, MaxPooling2D, ZeroPadding2D,\\\n",
        "     Flatten, BatchNormalization, AveragePooling2D, Dense, Activation, Add, Dropout\n",
        "from tensorflow.keras.models import Model\n",
        "from tensorflow.keras import activations\n",
        "from tensorflow.keras.optimizers import Adam\n",
        "from tensorflow.keras.callbacks import EarlyStopping\n",
        "from tensorflow.keras.regularizers import l2\n",
        "from tensorflow.keras.layers import Convolution2D\n",
        "import matplotlib.pyplot as plt\n",
        "import matplotlib.image as mpimg\n",
        "import numpy as np\n",
        "\n",
        "import random\n",
        "import shutil\n",
        "import cv2\n",
        "import os\n",
        "from PIL import Image"
      ],
      "metadata": {
        "id": "QE893xWyFW8G"
      },
      "execution_count": null,
      "outputs": []
    },
    {
      "cell_type": "code",
      "source": [
        "ROOT_PATH = \"./content/drive/MyDrive/CapstoneProject/ML\"\n",
        "DATASET_PATH = f\"{ROOT_PATH}/Dataset/data\"\n",
        "TRAINING_PATH = f\"{DATASET_PATH}/training4\"\n",
        "VALIDATION_PATH = f\"{DATASET_PATH}/validation4\""
      ],
      "metadata": {
        "id": "Wx2-nJO6HYv1"
      },
      "execution_count": null,
      "outputs": []
    },
    {
      "cell_type": "code",
      "source": [
        "IMAGE_WIDTH = 500\n",
        "IMAGE_HEIGHT = 889\n",
        "IMAGE_SIZE=(IMAGE_HEIGHT, IMAGE_WIDTH)\n",
        "IMAGE_CHANNELS = 3"
      ],
      "metadata": {
        "id": "b9NaY4MlIOIA"
      },
      "execution_count": null,
      "outputs": []
    },
    {
      "cell_type": "code",
      "source": [
        "classes = ['empty_bunch', 'overripe', 'ripe', 'rotten', 'underripe', 'unripe']"
      ],
      "metadata": {
        "id": "jtxMGe6QHljk"
      },
      "execution_count": null,
      "outputs": []
    },
    {
      "cell_type": "code",
      "source": [
        "def train_val_generators(TRAINING_DIR, VALIDATION_DIR):\n",
        "  \"\"\"\n",
        "  Creates the training and validation data generators\n",
        "\n",
        "  Args:\n",
        "    TRAINING_DIR (string): directory path containing the training images\n",
        "    VALIDATION_DIR (string): directory path containing the testing/validation images\n",
        "\n",
        "  Returns:\n",
        "    train_generator, validation_generator - tuple containing the generators\n",
        "  \"\"\"\n",
        "  # Instantiate the ImageDataGenerator class (don't forget to set the arguments to augment the images)\n",
        "  train_datagen = ImageDataGenerator(rescale=1/255,\n",
        "                                     rotation_range=40,\n",
        "                                     width_shift_range=0.2,\n",
        "                                     height_shift_range=0.2,\n",
        "                                     shear_range=0.2,\n",
        "                                     zoom_range=0.2,\n",
        "                                     horizontal_flip=True,\n",
        "                                     vertical_flip=True,\n",
        "                                     fill_mode='nearest')\n",
        "\n",
        "  # Pass in the appropriate arguments to the flow_from_directory method\n",
        "  train_generator = train_datagen.flow_from_directory(directory=TRAINING_DIR,\n",
        "                                                      batch_size=20,\n",
        "                                                      class_mode='categorical',\n",
        "                                                      target_size=IMAGE_SIZE)\n",
        "\n",
        "  # Instantiate the ImageDataGenerator class (don't forget to set the rescale argument)\n",
        "  validation_datagen = ImageDataGenerator(rescale=1/255)\n",
        "\n",
        "  # Pass in the appropriate arguments to the flow_from_directory method\n",
        "  validation_generator = validation_datagen.flow_from_directory(directory=VALIDATION_DIR,\n",
        "                                                                batch_size=20,\n",
        "                                                                class_mode='categorical',\n",
        "                                                                target_size=IMAGE_SIZE)\n",
        "\n",
        "  return train_generator, validation_generator"
      ],
      "metadata": {
        "id": "3Aig0ugwIA_l"
      },
      "execution_count": null,
      "outputs": []
    },
    {
      "cell_type": "code",
      "source": [
        "train_generator, validation_generator = train_val_generators(TRAINING_PATH, VALIDATION_PATH)"
      ],
      "metadata": {
        "colab": {
          "base_uri": "https://localhost:8080/"
        },
        "id": "g9wZoskQIjNU",
        "outputId": "4ed575ca-6b6f-47fd-be2e-e39276d5c43b"
      },
      "execution_count": null,
      "outputs": [
        {
          "output_type": "stream",
          "name": "stdout",
          "text": [
            "Found 728 images belonging to 6 classes.\n",
            "Found 186 images belonging to 6 classes.\n"
          ]
        }
      ]
    },
    {
      "cell_type": "markdown",
      "source": [
        "# Create Model"
      ],
      "metadata": {
        "id": "kMWi3OnhH0AW"
      }
    },
    {
      "cell_type": "code",
      "source": [
        "def simple_model():\n",
        "\n",
        "  classifier = Sequential()\n",
        "\n",
        "  # Step 1 - Convolution\n",
        "  classifier.add(Convolution2D(64, 3, 3, input_shape = (IMAGE_HEIGHT, IMAGE_WIDTH, IMAGE_CHANNELS), activation = 'relu'))\n",
        "  classifier.add(Dropout(0.2))\n",
        "  classifier.add(MaxPooling2D(pool_size = (2, 2)))\n",
        "\n",
        "  # Step 2 - Convolution\n",
        "  classifier.add(Convolution2D(128, 3, 3, activation = 'relu'))\n",
        "  classifier.add(Dropout(0.2))\n",
        "  classifier.add(MaxPooling2D(pool_size = (2, 2)))\n",
        "\n",
        "  # Step 3 - Convolution\n",
        "  classifier.add(Convolution2D(256, 3, 3, activation = 'relu'))\n",
        "  classifier.add(Dropout(0.2))\n",
        "  classifier.add(MaxPooling2D(pool_size = (2, 2)))\n",
        "\n",
        "  # Step 3 - Flattening\n",
        "  classifier.add(Flatten())\n",
        "\n",
        "  # Step 4 - Full connection\n",
        "  classifier.add(Dense(128, activation = 'relu'))\n",
        "  classifier.add(Dense(6, activation='softmax', kernel_initializer='he_normal'))\n",
        "\n",
        "  return classifier"
      ],
      "metadata": {
        "id": "MCyP75bfHs-D"
      },
      "execution_count": null,
      "outputs": []
    },
    {
      "cell_type": "code",
      "source": [
        "from tensorflow.keras import backend as K\n",
        "\n",
        "# Create custome recall, precision, and f1 function\n",
        "# as model matrics to monitor\n",
        "\n",
        "def recall_m(y_true, y_pred):\n",
        "    true_positives = K.sum(K.round(K.clip(y_true * y_pred, 0, 1)))\n",
        "    possible_positives = K.sum(K.round(K.clip(y_true, 0, 1)))\n",
        "    recall = true_positives / (possible_positives + K.epsilon())\n",
        "    return recall\n",
        "\n",
        "def precision_m(y_true, y_pred):\n",
        "    true_positives = K.sum(K.round(K.clip(y_true * y_pred, 0, 1)))\n",
        "    predicted_positives = K.sum(K.round(K.clip(y_pred, 0, 1)))\n",
        "    precision = true_positives / (predicted_positives + K.epsilon())\n",
        "    return precision\n",
        "\n",
        "def f1_m(y_true, y_pred):\n",
        "    precision = precision_m(y_true, y_pred)\n",
        "    recall = recall_m(y_true, y_pred)\n",
        "    return 2*((precision*recall)/(precision+recall+K.epsilon()))"
      ],
      "metadata": {
        "id": "lWkR0goAKPbn"
      },
      "execution_count": null,
      "outputs": []
    },
    {
      "cell_type": "code",
      "source": [
        "# Create csvlogger to save model history\n",
        "\n",
        "from keras.callbacks import CSVLogger\n",
        "\n",
        "LOGGER_PATH = f\"{ROOT_PATH}/Dataset/model_checkpoints/best_model5_simple_augmented/training.log\"\n",
        "csv_logger = CSVLogger('LOGGER_PATH', separator=',', append=False)"
      ],
      "metadata": {
        "id": "8l5Ztp0Ct0F3"
      },
      "execution_count": null,
      "outputs": []
    },
    {
      "cell_type": "code",
      "source": [
        "def earlystop(mode):\n",
        "  if mode=='acc':\n",
        "    estop = tf.keras.callbacks.EarlyStopping(monitor='val_acc', patience=30, mode='max')\n",
        "  elif mode=='loss':\n",
        "    estop = tf.keras.callbacks.EarlyStopping(monitor='val_loss', patience=30, mode='min')\n",
        "  return estop\n",
        "\n",
        "earlystop = earlystop('acc')\n",
        "\n",
        "CHECKPOINT_PATH = f\"{ROOT_PATH}/Dataset/model_checkpoints/best_model5_simple_augmented/best_model\"\n",
        "checkpoint = tf.keras.callbacks.ModelCheckpoint(CHECKPOINT_PATH,\n",
        "                                            save_best_only=True, monitor='val_loss', mode=\"min\")"
      ],
      "metadata": {
        "id": "Jm7oSXqFKXRc"
      },
      "execution_count": null,
      "outputs": []
    },
    {
      "cell_type": "code",
      "source": [
        "classifier = simple_model()\n",
        "classifier.summary()"
      ],
      "metadata": {
        "colab": {
          "base_uri": "https://localhost:8080/"
        },
        "id": "NYn2MZYsLEC1",
        "outputId": "8802c223-3c06-46ab-9cdb-ee958c77cb0e"
      },
      "execution_count": null,
      "outputs": [
        {
          "output_type": "stream",
          "name": "stdout",
          "text": [
            "Model: \"sequential_2\"\n",
            "_________________________________________________________________\n",
            " Layer (type)                Output Shape              Param #   \n",
            "=================================================================\n",
            " conv2d_6 (Conv2D)           (None, 296, 166, 64)      1792      \n",
            "                                                                 \n",
            " dropout_6 (Dropout)         (None, 296, 166, 64)      0         \n",
            "                                                                 \n",
            " max_pooling2d_6 (MaxPooling  (None, 148, 83, 64)      0         \n",
            " 2D)                                                             \n",
            "                                                                 \n",
            " conv2d_7 (Conv2D)           (None, 49, 27, 128)       73856     \n",
            "                                                                 \n",
            " dropout_7 (Dropout)         (None, 49, 27, 128)       0         \n",
            "                                                                 \n",
            " max_pooling2d_7 (MaxPooling  (None, 24, 13, 128)      0         \n",
            " 2D)                                                             \n",
            "                                                                 \n",
            " conv2d_8 (Conv2D)           (None, 8, 4, 256)         295168    \n",
            "                                                                 \n",
            " dropout_8 (Dropout)         (None, 8, 4, 256)         0         \n",
            "                                                                 \n",
            " max_pooling2d_8 (MaxPooling  (None, 4, 2, 256)        0         \n",
            " 2D)                                                             \n",
            "                                                                 \n",
            " flatten_2 (Flatten)         (None, 2048)              0         \n",
            "                                                                 \n",
            " dense_4 (Dense)             (None, 128)               262272    \n",
            "                                                                 \n",
            " dense_5 (Dense)             (None, 6)                 774       \n",
            "                                                                 \n",
            "=================================================================\n",
            "Total params: 633,862\n",
            "Trainable params: 633,862\n",
            "Non-trainable params: 0\n",
            "_________________________________________________________________\n"
          ]
        }
      ]
    },
    {
      "cell_type": "code",
      "source": [
        "classifier.compile(optimizer = 'adam', loss='categorical_crossentropy', metrics=['acc', f1_m])"
      ],
      "metadata": {
        "id": "JdmdmzaWLVLc"
      },
      "execution_count": null,
      "outputs": []
    },
    {
      "cell_type": "markdown",
      "source": [
        "# Train the model"
      ],
      "metadata": {
        "id": "fCPhQsUdLutQ"
      }
    },
    {
      "cell_type": "code",
      "source": [
        "batch_size = 20\n",
        "steps_per_epoch = 120/batch_size\n",
        "validation_steps = 40/batch_size\n",
        "classifier_history = classifier.fit(train_generator,\n",
        "                                    epochs=200,\n",
        "                                    steps_per_epoch=steps_per_epoch,\n",
        "                                    validation_steps=validation_steps,\n",
        "                                    validation_data=validation_generator,\n",
        "                                    shuffle=True,\n",
        "                                    callbacks=[checkpoint, csv_logger])"
      ],
      "metadata": {
        "colab": {
          "base_uri": "https://localhost:8080/"
        },
        "id": "MvyweuvaLt79",
        "outputId": "e1b022f8-0244-4891-c2aa-8f41c9554984"
      },
      "execution_count": null,
      "outputs": [
        {
          "output_type": "stream",
          "name": "stdout",
          "text": [
            "Epoch 1/200\n",
            "6/6 [==============================] - ETA: 0s - loss: 1.8075 - acc: 0.1917 - f1_m: 0.0000e+00"
          ]
        },
        {
          "output_type": "stream",
          "name": "stderr",
          "text": [
            "WARNING:absl:Found untraced functions such as _jit_compiled_convolution_op, _jit_compiled_convolution_op, _jit_compiled_convolution_op while saving (showing 3 of 3). These functions will not be directly callable after loading.\n"
          ]
        },
        {
          "output_type": "stream",
          "name": "stdout",
          "text": [
            "\b\b\b\b\b\b\b\b\b\b\b\b\b\b\b\b\b\b\b\b\b\b\b\b\b\b\b\b\b\b\b\b\b\b\b\b\b\b\b\b\b\b\b\b\b\b\b\b\b\b\b\b\b\b\b\b\b\b\b\b\b\b\b\b\b\b\b\b\b\b\b\b\b\b\b\b\b\b\b\b\b\b\b\b\b\b\b\b\b\b\b\b\b\b\r6/6 [==============================] - 90s 17s/step - loss: 1.8075 - acc: 0.1917 - f1_m: 0.0000e+00 - val_loss: 1.7633 - val_acc: 0.2500 - val_f1_m: 0.0000e+00\n",
            "Epoch 2/200\n",
            "6/6 [==============================] - 55s 9s/step - loss: 1.7551 - acc: 0.2000 - f1_m: 0.0000e+00 - val_loss: 1.7827 - val_acc: 0.1750 - val_f1_m: 0.0000e+00\n",
            "Epoch 3/200\n",
            "6/6 [==============================] - 46s 8s/step - loss: 1.7948 - acc: 0.1481 - f1_m: 0.0000e+00 - val_loss: 1.7651 - val_acc: 0.1750 - val_f1_m: 0.0000e+00\n",
            "Epoch 4/200\n",
            "6/6 [==============================] - ETA: 0s - loss: 1.7446 - acc: 0.2250 - f1_m: 0.0000e+00"
          ]
        },
        {
          "output_type": "stream",
          "name": "stderr",
          "text": [
            "WARNING:absl:Found untraced functions such as _jit_compiled_convolution_op, _jit_compiled_convolution_op, _jit_compiled_convolution_op while saving (showing 3 of 3). These functions will not be directly callable after loading.\n"
          ]
        },
        {
          "output_type": "stream",
          "name": "stdout",
          "text": [
            "\b\b\b\b\b\b\b\b\b\b\b\b\b\b\b\b\b\b\b\b\b\b\b\b\b\b\b\b\b\b\b\b\b\b\b\b\b\b\b\b\b\b\b\b\b\b\b\b\b\b\b\b\b\b\b\b\b\b\b\b\b\b\b\b\b\b\b\b\b\b\b\b\b\b\b\b\b\b\b\b\b\b\b\b\b\b\b\b\b\b\b\b\b\b\r6/6 [==============================] - 87s 16s/step - loss: 1.7446 - acc: 0.2250 - f1_m: 0.0000e+00 - val_loss: 1.7562 - val_acc: 0.2000 - val_f1_m: 0.0000e+00\n",
            "Epoch 5/200\n",
            "6/6 [==============================] - 36s 5s/step - loss: 1.7630 - acc: 0.1667 - f1_m: 0.0000e+00 - val_loss: 1.7595 - val_acc: 0.2500 - val_f1_m: 0.0000e+00\n",
            "Epoch 6/200\n",
            "6/6 [==============================] - 35s 6s/step - loss: 1.7403 - acc: 0.1500 - f1_m: 0.0000e+00 - val_loss: 1.7860 - val_acc: 0.2000 - val_f1_m: 0.0000e+00\n",
            "Epoch 7/200\n",
            "6/6 [==============================] - ETA: 0s - loss: 1.8125 - acc: 0.1296 - f1_m: 0.0000e+00"
          ]
        },
        {
          "output_type": "stream",
          "name": "stderr",
          "text": [
            "WARNING:absl:Found untraced functions such as _jit_compiled_convolution_op, _jit_compiled_convolution_op, _jit_compiled_convolution_op while saving (showing 3 of 3). These functions will not be directly callable after loading.\n"
          ]
        },
        {
          "output_type": "stream",
          "name": "stdout",
          "text": [
            "\b\b\b\b\b\b\b\b\b\b\b\b\b\b\b\b\b\b\b\b\b\b\b\b\b\b\b\b\b\b\b\b\b\b\b\b\b\b\b\b\b\b\b\b\b\b\b\b\b\b\b\b\b\b\b\b\b\b\b\b\b\b\b\b\b\b\b\b\b\b\b\b\b\b\b\b\b\b\b\b\b\b\b\b\b\b\b\b\b\b\b\b\b\b\r6/6 [==============================] - 56s 10s/step - loss: 1.8125 - acc: 0.1296 - f1_m: 0.0000e+00 - val_loss: 1.7439 - val_acc: 0.3250 - val_f1_m: 0.0000e+00\n",
            "Epoch 8/200\n",
            "6/6 [==============================] - 22s 4s/step - loss: 1.7780 - acc: 0.1667 - f1_m: 0.0000e+00 - val_loss: 1.7447 - val_acc: 0.2500 - val_f1_m: 0.0000e+00\n",
            "Epoch 9/200\n",
            "6/6 [==============================] - ETA: 0s - loss: 1.7344 - acc: 0.2000 - f1_m: 0.0000e+00"
          ]
        },
        {
          "output_type": "stream",
          "name": "stderr",
          "text": [
            "WARNING:absl:Found untraced functions such as _jit_compiled_convolution_op, _jit_compiled_convolution_op, _jit_compiled_convolution_op while saving (showing 3 of 3). These functions will not be directly callable after loading.\n"
          ]
        },
        {
          "output_type": "stream",
          "name": "stdout",
          "text": [
            "\b\b\b\b\b\b\b\b\b\b\b\b\b\b\b\b\b\b\b\b\b\b\b\b\b\b\b\b\b\b\b\b\b\b\b\b\b\b\b\b\b\b\b\b\b\b\b\b\b\b\b\b\b\b\b\b\b\b\b\b\b\b\b\b\b\b\b\b\b\b\b\b\b\b\b\b\b\b\b\b\b\b\b\b\b\b\b\b\b\b\b\b\b\b\r6/6 [==============================] - 54s 10s/step - loss: 1.7344 - acc: 0.2000 - f1_m: 0.0000e+00 - val_loss: 1.7205 - val_acc: 0.2000 - val_f1_m: 0.0000e+00\n",
            "Epoch 10/200\n",
            "6/6 [==============================] - 23s 4s/step - loss: 1.7158 - acc: 0.1750 - f1_m: 0.0000e+00 - val_loss: 1.7801 - val_acc: 0.2000 - val_f1_m: 0.0000e+00\n",
            "Epoch 11/200\n",
            "6/6 [==============================] - 28s 4s/step - loss: 1.7172 - acc: 0.2333 - f1_m: 0.0000e+00 - val_loss: 1.7259 - val_acc: 0.2000 - val_f1_m: 0.0000e+00\n",
            "Epoch 12/200\n",
            "6/6 [==============================] - ETA: 0s - loss: 1.7407 - acc: 0.2250 - f1_m: 0.0000e+00"
          ]
        },
        {
          "output_type": "stream",
          "name": "stderr",
          "text": [
            "WARNING:absl:Found untraced functions such as _jit_compiled_convolution_op, _jit_compiled_convolution_op, _jit_compiled_convolution_op while saving (showing 3 of 3). These functions will not be directly callable after loading.\n"
          ]
        },
        {
          "output_type": "stream",
          "name": "stdout",
          "text": [
            "\b\b\b\b\b\b\b\b\b\b\b\b\b\b\b\b\b\b\b\b\b\b\b\b\b\b\b\b\b\b\b\b\b\b\b\b\b\b\b\b\b\b\b\b\b\b\b\b\b\b\b\b\b\b\b\b\b\b\b\b\b\b\b\b\b\b\b\b\b\b\b\b\b\b\b\b\b\b\b\b\b\b\b\b\b\b\b\b\b\b\b\b\b\b\r6/6 [==============================] - 51s 10s/step - loss: 1.7407 - acc: 0.2250 - f1_m: 0.0000e+00 - val_loss: 1.6687 - val_acc: 0.3250 - val_f1_m: 0.0000e+00\n",
            "Epoch 13/200\n",
            "6/6 [==============================] - ETA: 0s - loss: 1.6552 - acc: 0.2500 - f1_m: 0.0000e+00"
          ]
        },
        {
          "output_type": "stream",
          "name": "stderr",
          "text": [
            "WARNING:absl:Found untraced functions such as _jit_compiled_convolution_op, _jit_compiled_convolution_op, _jit_compiled_convolution_op while saving (showing 3 of 3). These functions will not be directly callable after loading.\n"
          ]
        },
        {
          "output_type": "stream",
          "name": "stdout",
          "text": [
            "\b\b\b\b\b\b\b\b\b\b\b\b\b\b\b\b\b\b\b\b\b\b\b\b\b\b\b\b\b\b\b\b\b\b\b\b\b\b\b\b\b\b\b\b\b\b\b\b\b\b\b\b\b\b\b\b\b\b\b\b\b\b\b\b\b\b\b\b\b\b\b\b\b\b\b\b\b\b\b\b\b\b\b\b\b\b\b\b\b\b\b\b\b\b\r6/6 [==============================] - 50s 9s/step - loss: 1.6552 - acc: 0.2500 - f1_m: 0.0000e+00 - val_loss: 1.6277 - val_acc: 0.4250 - val_f1_m: 0.0000e+00\n",
            "Epoch 14/200\n",
            "6/6 [==============================] - 16s 3s/step - loss: 1.6498 - acc: 0.3083 - f1_m: 0.0000e+00 - val_loss: 1.6989 - val_acc: 0.2000 - val_f1_m: 0.0000e+00\n",
            "Epoch 15/200\n",
            "6/6 [==============================] - 18s 3s/step - loss: 1.6592 - acc: 0.2315 - f1_m: 0.0000e+00 - val_loss: 1.6706 - val_acc: 0.2000 - val_f1_m: 0.0000e+00\n",
            "Epoch 16/200\n",
            "6/6 [==============================] - 19s 3s/step - loss: 1.6926 - acc: 0.2750 - f1_m: 0.0000e+00 - val_loss: 1.6808 - val_acc: 0.2500 - val_f1_m: 0.0000e+00\n",
            "Epoch 17/200\n",
            "6/6 [==============================] - ETA: 0s - loss: 1.6779 - acc: 0.2870 - f1_m: 0.0000e+00"
          ]
        },
        {
          "output_type": "stream",
          "name": "stderr",
          "text": [
            "WARNING:absl:Found untraced functions such as _jit_compiled_convolution_op, _jit_compiled_convolution_op, _jit_compiled_convolution_op while saving (showing 3 of 3). These functions will not be directly callable after loading.\n"
          ]
        },
        {
          "output_type": "stream",
          "name": "stdout",
          "text": [
            "\b\b\b\b\b\b\b\b\b\b\b\b\b\b\b\b\b\b\b\b\b\b\b\b\b\b\b\b\b\b\b\b\b\b\b\b\b\b\b\b\b\b\b\b\b\b\b\b\b\b\b\b\b\b\b\b\b\b\b\b\b\b\b\b\b\b\b\b\b\b\b\b\b\b\b\b\b\b\b\b\b\b\b\b\b\b\b\b\b\b\b\b\b\b\r6/6 [==============================] - 46s 9s/step - loss: 1.6779 - acc: 0.2870 - f1_m: 0.0000e+00 - val_loss: 1.6034 - val_acc: 0.2250 - val_f1_m: 0.0000e+00\n",
            "Epoch 18/200\n",
            "6/6 [==============================] - 18s 3s/step - loss: 1.6533 - acc: 0.2083 - f1_m: 0.0000e+00 - val_loss: 1.6318 - val_acc: 0.3000 - val_f1_m: 0.0000e+00\n",
            "Epoch 19/200\n",
            "6/6 [==============================] - ETA: 0s - loss: 1.6480 - acc: 0.3519 - f1_m: 0.0000e+00"
          ]
        },
        {
          "output_type": "stream",
          "name": "stderr",
          "text": [
            "WARNING:absl:Found untraced functions such as _jit_compiled_convolution_op, _jit_compiled_convolution_op, _jit_compiled_convolution_op while saving (showing 3 of 3). These functions will not be directly callable after loading.\n"
          ]
        },
        {
          "output_type": "stream",
          "name": "stdout",
          "text": [
            "\b\b\b\b\b\b\b\b\b\b\b\b\b\b\b\b\b\b\b\b\b\b\b\b\b\b\b\b\b\b\b\b\b\b\b\b\b\b\b\b\b\b\b\b\b\b\b\b\b\b\b\b\b\b\b\b\b\b\b\b\b\b\b\b\b\b\b\b\b\b\b\b\b\b\b\b\b\b\b\b\b\b\b\b\b\b\b\b\b\b\b\b\b\b\r6/6 [==============================] - 44s 9s/step - loss: 1.6480 - acc: 0.3519 - f1_m: 0.0000e+00 - val_loss: 1.5579 - val_acc: 0.5000 - val_f1_m: 0.0000e+00\n",
            "Epoch 20/200\n",
            "6/6 [==============================] - ETA: 0s - loss: 1.6282 - acc: 0.2870 - f1_m: 0.0278    "
          ]
        },
        {
          "output_type": "stream",
          "name": "stderr",
          "text": [
            "WARNING:absl:Found untraced functions such as _jit_compiled_convolution_op, _jit_compiled_convolution_op, _jit_compiled_convolution_op while saving (showing 3 of 3). These functions will not be directly callable after loading.\n"
          ]
        },
        {
          "output_type": "stream",
          "name": "stdout",
          "text": [
            "\b\b\b\b\b\b\b\b\b\b\b\b\b\b\b\b\b\b\b\b\b\b\b\b\b\b\b\b\b\b\b\b\b\b\b\b\b\b\b\b\b\b\b\b\b\b\b\b\b\b\b\b\b\b\b\b\b\b\b\b\b\b\b\b\b\b\b\b\b\b\b\b\b\b\b\b\b\b\b\b\b\b\b\b\b\b\b\b\b\b\r6/6 [==============================] - 45s 8s/step - loss: 1.6282 - acc: 0.2870 - f1_m: 0.0278 - val_loss: 1.5455 - val_acc: 0.3250 - val_f1_m: 0.0000e+00\n",
            "Epoch 21/200\n",
            "6/6 [==============================] - ETA: 0s - loss: 1.6226 - acc: 0.2778 - f1_m: 0.0807"
          ]
        },
        {
          "output_type": "stream",
          "name": "stderr",
          "text": [
            "WARNING:absl:Found untraced functions such as _jit_compiled_convolution_op, _jit_compiled_convolution_op, _jit_compiled_convolution_op while saving (showing 3 of 3). These functions will not be directly callable after loading.\n"
          ]
        },
        {
          "output_type": "stream",
          "name": "stdout",
          "text": [
            "\b\b\b\b\b\b\b\b\b\b\b\b\b\b\b\b\b\b\b\b\b\b\b\b\b\b\b\b\b\b\b\b\b\b\b\b\b\b\b\b\b\b\b\b\b\b\b\b\b\b\b\b\b\b\b\b\b\b\b\b\b\b\b\b\b\b\b\b\b\b\b\b\b\b\b\b\b\b\b\b\b\b\b\b\b\b\b\b\b\b\r6/6 [==============================] - 48s 9s/step - loss: 1.6226 - acc: 0.2778 - f1_m: 0.0807 - val_loss: 1.5341 - val_acc: 0.3000 - val_f1_m: 0.0000e+00\n",
            "Epoch 22/200\n",
            "6/6 [==============================] - ETA: 0s - loss: 1.4604 - acc: 0.3426 - f1_m: 0.0855"
          ]
        },
        {
          "output_type": "stream",
          "name": "stderr",
          "text": [
            "WARNING:absl:Found untraced functions such as _jit_compiled_convolution_op, _jit_compiled_convolution_op, _jit_compiled_convolution_op while saving (showing 3 of 3). These functions will not be directly callable after loading.\n"
          ]
        },
        {
          "output_type": "stream",
          "name": "stdout",
          "text": [
            "\b\b\b\b\b\b\b\b\b\b\b\b\b\b\b\b\b\b\b\b\b\b\b\b\b\b\b\b\b\b\b\b\b\b\b\b\b\b\b\b\b\b\b\b\b\b\b\b\b\b\b\b\b\b\b\b\b\b\b\b\b\b\b\b\b\b\b\b\b\b\b\b\b\b\b\b\b\b\b\b\b\b\b\b\b\b\b\b\b\b\r6/6 [==============================] - 67s 13s/step - loss: 1.4604 - acc: 0.3426 - f1_m: 0.0855 - val_loss: 1.4645 - val_acc: 0.3500 - val_f1_m: 0.0000e+00\n",
            "Epoch 23/200\n",
            "6/6 [==============================] - ETA: 0s - loss: 1.5037 - acc: 0.3083 - f1_m: 0.1101"
          ]
        },
        {
          "output_type": "stream",
          "name": "stderr",
          "text": [
            "WARNING:absl:Found untraced functions such as _jit_compiled_convolution_op, _jit_compiled_convolution_op, _jit_compiled_convolution_op while saving (showing 3 of 3). These functions will not be directly callable after loading.\n"
          ]
        },
        {
          "output_type": "stream",
          "name": "stdout",
          "text": [
            "\b\b\b\b\b\b\b\b\b\b\b\b\b\b\b\b\b\b\b\b\b\b\b\b\b\b\b\b\b\b\b\b\b\b\b\b\b\b\b\b\b\b\b\b\b\b\b\b\b\b\b\b\b\b\b\b\b\b\b\b\b\b\b\b\b\b\b\b\b\b\b\b\b\b\b\b\b\b\b\b\b\b\b\b\b\b\b\b\b\b\r6/6 [==============================] - 51s 10s/step - loss: 1.5037 - acc: 0.3083 - f1_m: 0.1101 - val_loss: 1.3371 - val_acc: 0.5000 - val_f1_m: 0.0000e+00\n",
            "Epoch 24/200\n",
            "6/6 [==============================] - 14s 2s/step - loss: 1.4513 - acc: 0.3083 - f1_m: 0.0903 - val_loss: 1.3896 - val_acc: 0.4250 - val_f1_m: 0.0000e+00\n",
            "Epoch 25/200\n",
            "6/6 [==============================] - 15s 2s/step - loss: 1.4968 - acc: 0.3056 - f1_m: 0.0152 - val_loss: 1.3772 - val_acc: 0.4000 - val_f1_m: 0.1385\n",
            "Epoch 26/200\n",
            "6/6 [==============================] - 15s 3s/step - loss: 1.4814 - acc: 0.3333 - f1_m: 0.0999 - val_loss: 1.5327 - val_acc: 0.3750 - val_f1_m: 0.0000e+00\n",
            "Epoch 27/200\n",
            "6/6 [==============================] - 16s 3s/step - loss: 1.5529 - acc: 0.3500 - f1_m: 0.0000e+00 - val_loss: 1.5131 - val_acc: 0.3250 - val_f1_m: 0.0000e+00\n",
            "Epoch 28/200\n",
            "6/6 [==============================] - 17s 3s/step - loss: 1.6129 - acc: 0.3000 - f1_m: 0.0303 - val_loss: 1.4699 - val_acc: 0.4250 - val_f1_m: 0.0000e+00\n",
            "Epoch 29/200\n",
            "6/6 [==============================] - 15s 2s/step - loss: 1.4663 - acc: 0.4583 - f1_m: 0.1145 - val_loss: 1.5298 - val_acc: 0.3500 - val_f1_m: 0.0000e+00\n",
            "Epoch 30/200\n",
            "6/6 [==============================] - 16s 3s/step - loss: 1.5271 - acc: 0.3167 - f1_m: 0.0575 - val_loss: 1.4160 - val_acc: 0.4000 - val_f1_m: 0.0000e+00\n",
            "Epoch 31/200\n",
            "6/6 [==============================] - 15s 3s/step - loss: 1.4572 - acc: 0.3667 - f1_m: 0.1030 - val_loss: 1.4476 - val_acc: 0.3500 - val_f1_m: 0.0000e+00\n",
            "Epoch 32/200\n",
            "6/6 [==============================] - ETA: 0s - loss: 1.4493 - acc: 0.4000 - f1_m: 0.1070"
          ]
        },
        {
          "output_type": "stream",
          "name": "stderr",
          "text": [
            "WARNING:absl:Found untraced functions such as _jit_compiled_convolution_op, _jit_compiled_convolution_op, _jit_compiled_convolution_op while saving (showing 3 of 3). These functions will not be directly callable after loading.\n"
          ]
        },
        {
          "output_type": "stream",
          "name": "stdout",
          "text": [
            "\b\b\b\b\b\b\b\b\b\b\b\b\b\b\b\b\b\b\b\b\b\b\b\b\b\b\b\b\b\b\b\b\b\b\b\b\b\b\b\b\b\b\b\b\b\b\b\b\b\b\b\b\b\b\b\b\b\b\b\b\b\b\b\b\b\b\b\b\b\b\b\b\b\b\b\b\b\b\b\b\b\b\b\b\b\b\b\b\b\b\r6/6 [==============================] - 47s 9s/step - loss: 1.4493 - acc: 0.4000 - f1_m: 0.1070 - val_loss: 1.2914 - val_acc: 0.4500 - val_f1_m: 0.1726\n",
            "Epoch 33/200\n",
            "6/6 [==============================] - 15s 2s/step - loss: 1.3900 - acc: 0.4259 - f1_m: 0.2173 - val_loss: 1.3628 - val_acc: 0.3500 - val_f1_m: 0.1779\n",
            "Epoch 34/200\n",
            "6/6 [==============================] - 14s 2s/step - loss: 1.2904 - acc: 0.4259 - f1_m: 0.1259 - val_loss: 1.3528 - val_acc: 0.4250 - val_f1_m: 0.0476\n",
            "Epoch 35/200\n",
            "6/6 [==============================] - 15s 2s/step - loss: 1.4959 - acc: 0.3000 - f1_m: 0.1623 - val_loss: 1.3827 - val_acc: 0.3750 - val_f1_m: 0.0000e+00\n",
            "Epoch 36/200\n",
            "6/6 [==============================] - ETA: 0s - loss: 1.3972 - acc: 0.4167 - f1_m: 0.0889"
          ]
        },
        {
          "output_type": "stream",
          "name": "stderr",
          "text": [
            "WARNING:absl:Found untraced functions such as _jit_compiled_convolution_op, _jit_compiled_convolution_op, _jit_compiled_convolution_op while saving (showing 3 of 3). These functions will not be directly callable after loading.\n"
          ]
        },
        {
          "output_type": "stream",
          "name": "stdout",
          "text": [
            "\b\b\b\b\b\b\b\b\b\b\b\b\b\b\b\b\b\b\b\b\b\b\b\b\b\b\b\b\b\b\b\b\b\b\b\b\b\b\b\b\b\b\b\b\b\b\b\b\b\b\b\b\b\b\b\b\b\b\b\b\b\b\b\b\b\b\b\b\b\b\b\b\b\b\b\b\b\b\b\b\b\b\b\b\b\b\b\b\b\b\r6/6 [==============================] - 46s 9s/step - loss: 1.3972 - acc: 0.4167 - f1_m: 0.0889 - val_loss: 1.2870 - val_acc: 0.5750 - val_f1_m: 0.0952\n",
            "Epoch 37/200\n",
            "6/6 [==============================] - 17s 3s/step - loss: 1.3620 - acc: 0.3833 - f1_m: 0.1953 - val_loss: 1.3349 - val_acc: 0.4250 - val_f1_m: 0.2120\n",
            "Epoch 38/200\n",
            "6/6 [==============================] - 15s 3s/step - loss: 1.3047 - acc: 0.4500 - f1_m: 0.2389 - val_loss: 1.3157 - val_acc: 0.4000 - val_f1_m: 0.1385\n",
            "Epoch 39/200\n",
            "6/6 [==============================] - 16s 3s/step - loss: 1.3551 - acc: 0.4333 - f1_m: 0.2440 - val_loss: 1.3623 - val_acc: 0.4500 - val_f1_m: 0.0000e+00\n",
            "Epoch 40/200\n",
            "6/6 [==============================] - 15s 3s/step - loss: 1.3476 - acc: 0.4167 - f1_m: 0.3008 - val_loss: 1.4079 - val_acc: 0.3750 - val_f1_m: 0.1600\n",
            "Epoch 41/200\n",
            "6/6 [==============================] - 15s 3s/step - loss: 1.2756 - acc: 0.4417 - f1_m: 0.2765 - val_loss: 1.3727 - val_acc: 0.3250 - val_f1_m: 0.2159\n",
            "Epoch 42/200\n",
            "6/6 [==============================] - ETA: 0s - loss: 1.3518 - acc: 0.3250 - f1_m: 0.1687"
          ]
        },
        {
          "output_type": "stream",
          "name": "stderr",
          "text": [
            "WARNING:absl:Found untraced functions such as _jit_compiled_convolution_op, _jit_compiled_convolution_op, _jit_compiled_convolution_op while saving (showing 3 of 3). These functions will not be directly callable after loading.\n"
          ]
        },
        {
          "output_type": "stream",
          "name": "stdout",
          "text": [
            "\b\b\b\b\b\b\b\b\b\b\b\b\b\b\b\b\b\b\b\b\b\b\b\b\b\b\b\b\b\b\b\b\b\b\b\b\b\b\b\b\b\b\b\b\b\b\b\b\b\b\b\b\b\b\b\b\b\b\b\b\b\b\b\b\b\b\b\b\b\b\b\b\b\b\b\b\b\b\b\b\b\b\b\b\b\b\b\b\b\b\r6/6 [==============================] - 47s 9s/step - loss: 1.3518 - acc: 0.3250 - f1_m: 0.1687 - val_loss: 1.2621 - val_acc: 0.5250 - val_f1_m: 0.0476\n",
            "Epoch 43/200\n",
            "6/6 [==============================] - ETA: 0s - loss: 1.3048 - acc: 0.4583 - f1_m: 0.2430"
          ]
        },
        {
          "output_type": "stream",
          "name": "stderr",
          "text": [
            "WARNING:absl:Found untraced functions such as _jit_compiled_convolution_op, _jit_compiled_convolution_op, _jit_compiled_convolution_op while saving (showing 3 of 3). These functions will not be directly callable after loading.\n"
          ]
        },
        {
          "output_type": "stream",
          "name": "stdout",
          "text": [
            "\b\b\b\b\b\b\b\b\b\b\b\b\b\b\b\b\b\b\b\b\b\b\b\b\b\b\b\b\b\b\b\b\b\b\b\b\b\b\b\b\b\b\b\b\b\b\b\b\b\b\b\b\b\b\b\b\b\b\b\b\b\b\b\b\b\b\b\b\b\b\b\b\b\b\b\b\b\b\b\b\b\b\b\b\b\b\b\b\b\b\r6/6 [==============================] - 51s 10s/step - loss: 1.3048 - acc: 0.4583 - f1_m: 0.2430 - val_loss: 1.1911 - val_acc: 0.4000 - val_f1_m: 0.2850\n",
            "Epoch 44/200\n",
            "6/6 [==============================] - 16s 3s/step - loss: 1.4046 - acc: 0.3833 - f1_m: 0.1838 - val_loss: 1.3132 - val_acc: 0.5250 - val_f1_m: 0.0952\n",
            "Epoch 45/200\n",
            "6/6 [==============================] - 15s 3s/step - loss: 1.2992 - acc: 0.4250 - f1_m: 0.2097 - val_loss: 1.3682 - val_acc: 0.3500 - val_f1_m: 0.2143\n",
            "Epoch 46/200\n",
            "6/6 [==============================] - 16s 3s/step - loss: 1.4327 - acc: 0.3833 - f1_m: 0.1347 - val_loss: 1.3715 - val_acc: 0.4000 - val_f1_m: 0.0476\n",
            "Epoch 47/200\n",
            "6/6 [==============================] - 15s 3s/step - loss: 1.3011 - acc: 0.5083 - f1_m: 0.1511 - val_loss: 1.3059 - val_acc: 0.4000 - val_f1_m: 0.1255\n",
            "Epoch 48/200\n",
            "6/6 [==============================] - 17s 3s/step - loss: 1.3376 - acc: 0.4500 - f1_m: 0.2486 - val_loss: 1.2156 - val_acc: 0.5000 - val_f1_m: 0.4636\n",
            "Epoch 49/200\n",
            "6/6 [==============================] - 15s 3s/step - loss: 1.2616 - acc: 0.4417 - f1_m: 0.3012 - val_loss: 1.2902 - val_acc: 0.4250 - val_f1_m: 0.0909\n",
            "Epoch 50/200\n",
            "6/6 [==============================] - 18s 3s/step - loss: 1.2832 - acc: 0.4000 - f1_m: 0.2582 - val_loss: 1.5022 - val_acc: 0.3250 - val_f1_m: 0.0952\n",
            "Epoch 51/200\n",
            "6/6 [==============================] - ETA: 0s - loss: 1.3025 - acc: 0.3750 - f1_m: 0.2421"
          ]
        },
        {
          "output_type": "stream",
          "name": "stderr",
          "text": [
            "WARNING:absl:Found untraced functions such as _jit_compiled_convolution_op, _jit_compiled_convolution_op, _jit_compiled_convolution_op while saving (showing 3 of 3). These functions will not be directly callable after loading.\n"
          ]
        },
        {
          "output_type": "stream",
          "name": "stdout",
          "text": [
            "\b\b\b\b\b\b\b\b\b\b\b\b\b\b\b\b\b\b\b\b\b\b\b\b\b\b\b\b\b\b\b\b\b\b\b\b\b\b\b\b\b\b\b\b\b\b\b\b\b\b\b\b\b\b\b\b\b\b\b\b\b\b\b\b\b\b\b\b\b\b\b\b\b\b\b\b\b\b\b\b\b\b\b\b\b\b\b\b\b\b\r6/6 [==============================] - 45s 9s/step - loss: 1.3025 - acc: 0.3750 - f1_m: 0.2421 - val_loss: 1.1260 - val_acc: 0.5500 - val_f1_m: 0.1385\n",
            "Epoch 52/200\n",
            "6/6 [==============================] - 16s 2s/step - loss: 1.1880 - acc: 0.4583 - f1_m: 0.2643 - val_loss: 1.3238 - val_acc: 0.4000 - val_f1_m: 0.1154\n",
            "Epoch 53/200\n",
            "6/6 [==============================] - 14s 2s/step - loss: 1.1978 - acc: 0.5250 - f1_m: 0.3659 - val_loss: 1.1914 - val_acc: 0.5750 - val_f1_m: 0.3056\n",
            "Epoch 54/200\n",
            "6/6 [==============================] - 15s 3s/step - loss: 1.2234 - acc: 0.4750 - f1_m: 0.3210 - val_loss: 1.1579 - val_acc: 0.5500 - val_f1_m: 0.2554\n",
            "Epoch 55/200\n",
            "6/6 [==============================] - 15s 2s/step - loss: 1.1333 - acc: 0.4667 - f1_m: 0.2996 - val_loss: 1.3086 - val_acc: 0.4250 - val_f1_m: 0.2298\n",
            "Epoch 56/200\n",
            "6/6 [==============================] - 15s 2s/step - loss: 1.1649 - acc: 0.5250 - f1_m: 0.3442 - val_loss: 1.2625 - val_acc: 0.4250 - val_f1_m: 0.2045\n",
            "Epoch 57/200\n",
            "6/6 [==============================] - 14s 2s/step - loss: 1.1795 - acc: 0.4417 - f1_m: 0.3101 - val_loss: 1.1333 - val_acc: 0.6250 - val_f1_m: 0.2159\n",
            "Epoch 58/200\n",
            "6/6 [==============================] - ETA: 0s - loss: 1.0280 - acc: 0.5417 - f1_m: 0.4518"
          ]
        },
        {
          "output_type": "stream",
          "name": "stderr",
          "text": [
            "WARNING:absl:Found untraced functions such as _jit_compiled_convolution_op, _jit_compiled_convolution_op, _jit_compiled_convolution_op while saving (showing 3 of 3). These functions will not be directly callable after loading.\n"
          ]
        },
        {
          "output_type": "stream",
          "name": "stdout",
          "text": [
            "\b\b\b\b\b\b\b\b\b\b\b\b\b\b\b\b\b\b\b\b\b\b\b\b\b\b\b\b\b\b\b\b\b\b\b\b\b\b\b\b\b\b\b\b\b\b\b\b\b\b\b\b\b\b\b\b\b\b\b\b\b\b\b\b\b\b\b\b\b\b\b\b\b\b\b\b\b\b\b\b\b\b\b\b\b\b\b\b\b\b\r6/6 [==============================] - 49s 9s/step - loss: 1.0280 - acc: 0.5417 - f1_m: 0.4518 - val_loss: 1.0354 - val_acc: 0.5000 - val_f1_m: 0.4119\n",
            "Epoch 59/200\n",
            "6/6 [==============================] - 15s 2s/step - loss: 1.0359 - acc: 0.5500 - f1_m: 0.5171 - val_loss: 1.3403 - val_acc: 0.4250 - val_f1_m: 0.3875\n",
            "Epoch 60/200\n",
            "6/6 [==============================] - 15s 2s/step - loss: 1.2249 - acc: 0.4917 - f1_m: 0.4872 - val_loss: 1.3874 - val_acc: 0.4000 - val_f1_m: 0.3933\n",
            "Epoch 61/200\n",
            "6/6 [==============================] - 14s 2s/step - loss: 1.3808 - acc: 0.4083 - f1_m: 0.2303 - val_loss: 1.0988 - val_acc: 0.4500 - val_f1_m: 0.3217\n",
            "Epoch 62/200\n",
            "6/6 [==============================] - 15s 3s/step - loss: 1.2673 - acc: 0.4083 - f1_m: 0.2837 - val_loss: 1.2579 - val_acc: 0.5000 - val_f1_m: 0.0909\n",
            "Epoch 63/200\n",
            "6/6 [==============================] - 13s 2s/step - loss: 1.1811 - acc: 0.5278 - f1_m: 0.2778 - val_loss: 1.0990 - val_acc: 0.5500 - val_f1_m: 0.2450\n",
            "Epoch 64/200\n",
            "6/6 [==============================] - 14s 2s/step - loss: 1.0681 - acc: 0.6000 - f1_m: 0.4638 - val_loss: 1.0703 - val_acc: 0.5250 - val_f1_m: 0.4187\n",
            "Epoch 65/200\n",
            "6/6 [==============================] - 15s 3s/step - loss: 1.0608 - acc: 0.5417 - f1_m: 0.5041 - val_loss: 1.1739 - val_acc: 0.4500 - val_f1_m: 0.4973\n",
            "Epoch 66/200\n",
            "6/6 [==============================] - 14s 2s/step - loss: 1.2835 - acc: 0.4417 - f1_m: 0.4265 - val_loss: 1.1158 - val_acc: 0.4750 - val_f1_m: 0.3576\n",
            "Epoch 67/200\n",
            "6/6 [==============================] - 16s 3s/step - loss: 1.3054 - acc: 0.5000 - f1_m: 0.3635 - val_loss: 1.5244 - val_acc: 0.2500 - val_f1_m: 0.0931\n",
            "Epoch 68/200\n",
            "6/6 [==============================] - 15s 2s/step - loss: 1.2503 - acc: 0.5083 - f1_m: 0.3727 - val_loss: 1.2110 - val_acc: 0.4750 - val_f1_m: 0.4119\n",
            "Epoch 69/200\n",
            "6/6 [==============================] - 18s 3s/step - loss: 1.2490 - acc: 0.4352 - f1_m: 0.3419 - val_loss: 1.1701 - val_acc: 0.4500 - val_f1_m: 0.4352\n",
            "Epoch 70/200\n",
            "6/6 [==============================] - 15s 3s/step - loss: 1.1978 - acc: 0.4833 - f1_m: 0.3180 - val_loss: 1.3343 - val_acc: 0.4000 - val_f1_m: 0.1759\n",
            "Epoch 71/200\n",
            "6/6 [==============================] - 15s 3s/step - loss: 1.1457 - acc: 0.5250 - f1_m: 0.3928 - val_loss: 1.0634 - val_acc: 0.6000 - val_f1_m: 0.4066\n",
            "Epoch 72/200\n",
            "6/6 [==============================] - 15s 3s/step - loss: 1.1618 - acc: 0.5083 - f1_m: 0.4016 - val_loss: 1.2773 - val_acc: 0.4000 - val_f1_m: 0.2469\n",
            "Epoch 73/200\n",
            "6/6 [==============================] - 13s 2s/step - loss: 1.1299 - acc: 0.5185 - f1_m: 0.4713 - val_loss: 1.1527 - val_acc: 0.4500 - val_f1_m: 0.2820\n",
            "Epoch 74/200\n",
            "6/6 [==============================] - 14s 2s/step - loss: 1.0186 - acc: 0.5583 - f1_m: 0.5072 - val_loss: 1.2296 - val_acc: 0.4250 - val_f1_m: 0.2361\n",
            "Epoch 75/200\n",
            "6/6 [==============================] - ETA: 0s - loss: 1.0142 - acc: 0.5583 - f1_m: 0.5230"
          ]
        },
        {
          "output_type": "stream",
          "name": "stderr",
          "text": [
            "WARNING:absl:Found untraced functions such as _jit_compiled_convolution_op, _jit_compiled_convolution_op, _jit_compiled_convolution_op while saving (showing 3 of 3). These functions will not be directly callable after loading.\n"
          ]
        },
        {
          "output_type": "stream",
          "name": "stdout",
          "text": [
            "\b\b\b\b\b\b\b\b\b\b\b\b\b\b\b\b\b\b\b\b\b\b\b\b\b\b\b\b\b\b\b\b\b\b\b\b\b\b\b\b\b\b\b\b\b\b\b\b\b\b\b\b\b\b\b\b\b\b\b\b\b\b\b\b\b\b\b\b\b\b\b\b\b\b\b\b\b\b\b\b\b\b\b\b\b\b\b\b\b\b\r6/6 [==============================] - 50s 10s/step - loss: 1.0142 - acc: 0.5583 - f1_m: 0.5230 - val_loss: 0.9655 - val_acc: 0.6250 - val_f1_m: 0.5081\n",
            "Epoch 76/200\n",
            "6/6 [==============================] - 14s 2s/step - loss: 1.0267 - acc: 0.5185 - f1_m: 0.4582 - val_loss: 1.0063 - val_acc: 0.6000 - val_f1_m: 0.4352\n",
            "Epoch 77/200\n",
            "6/6 [==============================] - 14s 2s/step - loss: 0.8154 - acc: 0.6583 - f1_m: 0.6065 - val_loss: 1.0595 - val_acc: 0.5250 - val_f1_m: 0.5264\n",
            "Epoch 78/200\n",
            "6/6 [==============================] - ETA: 0s - loss: 1.0083 - acc: 0.5583 - f1_m: 0.5313"
          ]
        },
        {
          "output_type": "stream",
          "name": "stderr",
          "text": [
            "WARNING:absl:Found untraced functions such as _jit_compiled_convolution_op, _jit_compiled_convolution_op, _jit_compiled_convolution_op while saving (showing 3 of 3). These functions will not be directly callable after loading.\n"
          ]
        },
        {
          "output_type": "stream",
          "name": "stdout",
          "text": [
            "\b\b\b\b\b\b\b\b\b\b\b\b\b\b\b\b\b\b\b\b\b\b\b\b\b\b\b\b\b\b\b\b\b\b\b\b\b\b\b\b\b\b\b\b\b\b\b\b\b\b\b\b\b\b\b\b\b\b\b\b\b\b\b\b\b\b\b\b\b\b\b\b\b\b\b\b\b\b\b\b\b\b\b\b\b\b\b\b\b\b\r6/6 [==============================] - 50s 10s/step - loss: 1.0083 - acc: 0.5583 - f1_m: 0.5313 - val_loss: 0.8623 - val_acc: 0.6750 - val_f1_m: 0.6190\n",
            "Epoch 79/200\n",
            "6/6 [==============================] - 15s 3s/step - loss: 1.0492 - acc: 0.5556 - f1_m: 0.5234 - val_loss: 1.3197 - val_acc: 0.4250 - val_f1_m: 0.4353\n",
            "Epoch 80/200\n",
            "6/6 [==============================] - 16s 3s/step - loss: 0.9890 - acc: 0.6000 - f1_m: 0.4951 - val_loss: 0.9707 - val_acc: 0.5750 - val_f1_m: 0.4579\n",
            "Epoch 81/200\n",
            "6/6 [==============================] - 18s 3s/step - loss: 1.0014 - acc: 0.5333 - f1_m: 0.4591 - val_loss: 0.8885 - val_acc: 0.6750 - val_f1_m: 0.4537\n",
            "Epoch 82/200\n",
            "6/6 [==============================] - 18s 3s/step - loss: 0.9892 - acc: 0.6250 - f1_m: 0.5570 - val_loss: 1.0160 - val_acc: 0.6250 - val_f1_m: 0.3510\n",
            "Epoch 83/200\n",
            "6/6 [==============================] - 18s 3s/step - loss: 0.9891 - acc: 0.6000 - f1_m: 0.4727 - val_loss: 0.8916 - val_acc: 0.6000 - val_f1_m: 0.4925\n",
            "Epoch 84/200\n",
            "6/6 [==============================] - 14s 2s/step - loss: 0.8290 - acc: 0.6833 - f1_m: 0.6361 - val_loss: 0.8766 - val_acc: 0.7250 - val_f1_m: 0.5173\n",
            "Epoch 85/200\n",
            "6/6 [==============================] - 14s 2s/step - loss: 0.9379 - acc: 0.6417 - f1_m: 0.5654 - val_loss: 0.9523 - val_acc: 0.6000 - val_f1_m: 0.5431\n",
            "Epoch 86/200\n",
            "6/6 [==============================] - 15s 3s/step - loss: 0.9108 - acc: 0.6000 - f1_m: 0.5534 - val_loss: 1.0175 - val_acc: 0.5500 - val_f1_m: 0.5383\n",
            "Epoch 87/200\n",
            "6/6 [==============================] - 14s 2s/step - loss: 0.9687 - acc: 0.5750 - f1_m: 0.5312 - val_loss: 1.0089 - val_acc: 0.5750 - val_f1_m: 0.4643\n",
            "Epoch 88/200\n",
            "6/6 [==============================] - 16s 3s/step - loss: 0.9502 - acc: 0.5500 - f1_m: 0.5283 - val_loss: 0.9401 - val_acc: 0.7000 - val_f1_m: 0.5246\n",
            "Epoch 89/200\n",
            "6/6 [==============================] - 15s 3s/step - loss: 1.1938 - acc: 0.5333 - f1_m: 0.4258 - val_loss: 0.9025 - val_acc: 0.6000 - val_f1_m: 0.4487\n",
            "Epoch 90/200\n",
            "6/6 [==============================] - 13s 2s/step - loss: 0.9111 - acc: 0.5833 - f1_m: 0.5702 - val_loss: 0.8964 - val_acc: 0.6750 - val_f1_m: 0.5111\n",
            "Epoch 91/200\n",
            "6/6 [==============================] - ETA: 0s - loss: 0.8417 - acc: 0.6667 - f1_m: 0.5482"
          ]
        },
        {
          "output_type": "stream",
          "name": "stderr",
          "text": [
            "WARNING:absl:Found untraced functions such as _jit_compiled_convolution_op, _jit_compiled_convolution_op, _jit_compiled_convolution_op while saving (showing 3 of 3). These functions will not be directly callable after loading.\n"
          ]
        },
        {
          "output_type": "stream",
          "name": "stdout",
          "text": [
            "\b\b\b\b\b\b\b\b\b\b\b\b\b\b\b\b\b\b\b\b\b\b\b\b\b\b\b\b\b\b\b\b\b\b\b\b\b\b\b\b\b\b\b\b\b\b\b\b\b\b\b\b\b\b\b\b\b\b\b\b\b\b\b\b\b\b\b\b\b\b\b\b\b\b\b\b\b\b\b\b\b\b\b\b\b\b\b\b\b\b\r6/6 [==============================] - 48s 9s/step - loss: 0.8417 - acc: 0.6667 - f1_m: 0.5482 - val_loss: 0.7779 - val_acc: 0.7500 - val_f1_m: 0.6275\n",
            "Epoch 92/200\n",
            "6/6 [==============================] - 15s 3s/step - loss: 0.9168 - acc: 0.6250 - f1_m: 0.5846 - val_loss: 0.9503 - val_acc: 0.6750 - val_f1_m: 0.6061\n",
            "Epoch 93/200\n",
            "6/6 [==============================] - 14s 2s/step - loss: 0.8265 - acc: 0.6417 - f1_m: 0.6044 - val_loss: 0.8913 - val_acc: 0.6750 - val_f1_m: 0.6118\n",
            "Epoch 94/200\n",
            "6/6 [==============================] - 15s 3s/step - loss: 0.8225 - acc: 0.6333 - f1_m: 0.6035 - val_loss: 0.7827 - val_acc: 0.6750 - val_f1_m: 0.5902\n",
            "Epoch 95/200\n",
            "6/6 [==============================] - ETA: 0s - loss: 0.9763 - acc: 0.5750 - f1_m: 0.5485"
          ]
        },
        {
          "output_type": "stream",
          "name": "stderr",
          "text": [
            "WARNING:absl:Found untraced functions such as _jit_compiled_convolution_op, _jit_compiled_convolution_op, _jit_compiled_convolution_op while saving (showing 3 of 3). These functions will not be directly callable after loading.\n"
          ]
        },
        {
          "output_type": "stream",
          "name": "stdout",
          "text": [
            "\b\b\b\b\b\b\b\b\b\b\b\b\b\b\b\b\b\b\b\b\b\b\b\b\b\b\b\b\b\b\b\b\b\b\b\b\b\b\b\b\b\b\b\b\b\b\b\b\b\b\b\b\b\b\b\b\b\b\b\b\b\b\b\b\b\b\b\b\b\b\b\b\b\b\b\b\b\b\b\b\b\b\b\b\b\b\b\b\b\b\r6/6 [==============================] - 50s 10s/step - loss: 0.9763 - acc: 0.5750 - f1_m: 0.5485 - val_loss: 0.7572 - val_acc: 0.6000 - val_f1_m: 0.4895\n",
            "Epoch 96/200\n",
            "6/6 [==============================] - ETA: 0s - loss: 1.0670 - acc: 0.5583 - f1_m: 0.5021"
          ]
        },
        {
          "output_type": "stream",
          "name": "stderr",
          "text": [
            "WARNING:absl:Found untraced functions such as _jit_compiled_convolution_op, _jit_compiled_convolution_op, _jit_compiled_convolution_op while saving (showing 3 of 3). These functions will not be directly callable after loading.\n"
          ]
        },
        {
          "output_type": "stream",
          "name": "stdout",
          "text": [
            "\b\b\b\b\b\b\b\b\b\b\b\b\b\b\b\b\b\b\b\b\b\b\b\b\b\b\b\b\b\b\b\b\b\b\b\b\b\b\b\b\b\b\b\b\b\b\b\b\b\b\b\b\b\b\b\b\b\b\b\b\b\b\b\b\b\b\b\b\b\b\b\b\b\b\b\b\b\b\b\b\b\b\b\b\b\b\b\b\b\b\r6/6 [==============================] - 52s 10s/step - loss: 1.0670 - acc: 0.5583 - f1_m: 0.5021 - val_loss: 0.7332 - val_acc: 0.7000 - val_f1_m: 0.6295\n",
            "Epoch 97/200\n",
            "6/6 [==============================] - 17s 3s/step - loss: 0.8153 - acc: 0.6750 - f1_m: 0.5430 - val_loss: 0.8474 - val_acc: 0.6500 - val_f1_m: 0.6061\n",
            "Epoch 98/200\n",
            "6/6 [==============================] - 14s 2s/step - loss: 0.7948 - acc: 0.6250 - f1_m: 0.5784 - val_loss: 0.8067 - val_acc: 0.7000 - val_f1_m: 0.7140\n",
            "Epoch 99/200\n",
            "6/6 [==============================] - 14s 2s/step - loss: 0.8172 - acc: 0.6917 - f1_m: 0.6536 - val_loss: 1.3215 - val_acc: 0.5500 - val_f1_m: 0.4412\n",
            "Epoch 100/200\n",
            "6/6 [==============================] - 15s 3s/step - loss: 0.9203 - acc: 0.6083 - f1_m: 0.5540 - val_loss: 0.7799 - val_acc: 0.7250 - val_f1_m: 0.6762\n",
            "Epoch 101/200\n",
            "6/6 [==============================] - 14s 2s/step - loss: 1.0191 - acc: 0.5417 - f1_m: 0.4935 - val_loss: 0.8812 - val_acc: 0.5750 - val_f1_m: 0.5161\n",
            "Epoch 102/200\n",
            "6/6 [==============================] - 15s 3s/step - loss: 0.8107 - acc: 0.6500 - f1_m: 0.5810 - val_loss: 1.0085 - val_acc: 0.6000 - val_f1_m: 0.5020\n",
            "Epoch 103/200\n",
            "6/6 [==============================] - 14s 2s/step - loss: 0.7580 - acc: 0.6481 - f1_m: 0.6261 - val_loss: 0.9532 - val_acc: 0.5750 - val_f1_m: 0.5550\n",
            "Epoch 104/200\n",
            "6/6 [==============================] - 15s 3s/step - loss: 1.0279 - acc: 0.5667 - f1_m: 0.5124 - val_loss: 1.0465 - val_acc: 0.5500 - val_f1_m: 0.3974\n",
            "Epoch 105/200\n",
            "6/6 [==============================] - 14s 3s/step - loss: 0.9067 - acc: 0.6852 - f1_m: 0.5422 - val_loss: 0.8452 - val_acc: 0.6250 - val_f1_m: 0.4892\n",
            "Epoch 106/200\n",
            "6/6 [==============================] - 14s 2s/step - loss: 0.8103 - acc: 0.6417 - f1_m: 0.5722 - val_loss: 1.1750 - val_acc: 0.5250 - val_f1_m: 0.4869\n",
            "Epoch 107/200\n",
            "6/6 [==============================] - 16s 3s/step - loss: 0.8287 - acc: 0.6083 - f1_m: 0.6042 - val_loss: 0.8655 - val_acc: 0.5750 - val_f1_m: 0.5425\n",
            "Epoch 108/200\n",
            "6/6 [==============================] - 15s 3s/step - loss: 0.7440 - acc: 0.6583 - f1_m: 0.6224 - val_loss: 1.1068 - val_acc: 0.5750 - val_f1_m: 0.4877\n",
            "Epoch 109/200\n",
            "6/6 [==============================] - 14s 2s/step - loss: 0.6581 - acc: 0.7500 - f1_m: 0.7553 - val_loss: 0.7582 - val_acc: 0.6750 - val_f1_m: 0.6283\n",
            "Epoch 110/200\n",
            "6/6 [==============================] - 16s 3s/step - loss: 0.7639 - acc: 0.7000 - f1_m: 0.6687 - val_loss: 0.8310 - val_acc: 0.7000 - val_f1_m: 0.6216\n",
            "Epoch 111/200\n",
            "6/6 [==============================] - ETA: 0s - loss: 0.7525 - acc: 0.6333 - f1_m: 0.6317"
          ]
        },
        {
          "output_type": "stream",
          "name": "stderr",
          "text": [
            "WARNING:absl:Found untraced functions such as _jit_compiled_convolution_op, _jit_compiled_convolution_op, _jit_compiled_convolution_op while saving (showing 3 of 3). These functions will not be directly callable after loading.\n"
          ]
        },
        {
          "output_type": "stream",
          "name": "stdout",
          "text": [
            "\b\b\b\b\b\b\b\b\b\b\b\b\b\b\b\b\b\b\b\b\b\b\b\b\b\b\b\b\b\b\b\b\b\b\b\b\b\b\b\b\b\b\b\b\b\b\b\b\b\b\b\b\b\b\b\b\b\b\b\b\b\b\b\b\b\b\b\b\b\b\b\b\b\b\b\b\b\b\b\b\b\b\b\b\b\b\b\b\b\b\r6/6 [==============================] - 46s 9s/step - loss: 0.7525 - acc: 0.6333 - f1_m: 0.6317 - val_loss: 0.6746 - val_acc: 0.7500 - val_f1_m: 0.7027\n",
            "Epoch 112/200\n",
            "6/6 [==============================] - 15s 3s/step - loss: 0.8228 - acc: 0.6500 - f1_m: 0.6153 - val_loss: 0.7110 - val_acc: 0.7750 - val_f1_m: 0.7745\n",
            "Epoch 113/200\n",
            "6/6 [==============================] - 16s 3s/step - loss: 0.7865 - acc: 0.6167 - f1_m: 0.6116 - val_loss: 0.8675 - val_acc: 0.6250 - val_f1_m: 0.5982\n",
            "Epoch 114/200\n",
            "6/6 [==============================] - 14s 2s/step - loss: 0.8079 - acc: 0.6917 - f1_m: 0.6539 - val_loss: 0.8490 - val_acc: 0.6250 - val_f1_m: 0.6323\n",
            "Epoch 115/200\n",
            "6/6 [==============================] - 16s 3s/step - loss: 0.8935 - acc: 0.6000 - f1_m: 0.6175 - val_loss: 1.0450 - val_acc: 0.5250 - val_f1_m: 0.4583\n",
            "Epoch 116/200\n",
            "6/6 [==============================] - 16s 3s/step - loss: 0.6636 - acc: 0.7167 - f1_m: 0.6689 - val_loss: 1.1386 - val_acc: 0.5750 - val_f1_m: 0.5429\n",
            "Epoch 117/200\n",
            "6/6 [==============================] - 15s 3s/step - loss: 0.8785 - acc: 0.6417 - f1_m: 0.6197 - val_loss: 0.7608 - val_acc: 0.6500 - val_f1_m: 0.6111\n",
            "Epoch 118/200\n",
            "6/6 [==============================] - 16s 3s/step - loss: 0.9795 - acc: 0.5750 - f1_m: 0.5471 - val_loss: 0.8577 - val_acc: 0.6250 - val_f1_m: 0.6028\n",
            "Epoch 119/200\n",
            "6/6 [==============================] - 15s 3s/step - loss: 0.9475 - acc: 0.6250 - f1_m: 0.5565 - val_loss: 0.9392 - val_acc: 0.6250 - val_f1_m: 0.5815\n",
            "Epoch 120/200\n",
            "6/6 [==============================] - 15s 3s/step - loss: 0.8562 - acc: 0.6417 - f1_m: 0.5464 - val_loss: 0.8967 - val_acc: 0.6250 - val_f1_m: 0.5484\n",
            "Epoch 121/200\n",
            "6/6 [==============================] - 15s 3s/step - loss: 0.8529 - acc: 0.6417 - f1_m: 0.5840 - val_loss: 1.2524 - val_acc: 0.5750 - val_f1_m: 0.4563\n",
            "Epoch 122/200\n",
            "6/6 [==============================] - 16s 3s/step - loss: 0.9017 - acc: 0.6083 - f1_m: 0.5756 - val_loss: 0.8026 - val_acc: 0.5250 - val_f1_m: 0.5444\n",
            "Epoch 123/200\n",
            "6/6 [==============================] - 16s 3s/step - loss: 0.9280 - acc: 0.6083 - f1_m: 0.5209 - val_loss: 1.0788 - val_acc: 0.6000 - val_f1_m: 0.5455\n",
            "Epoch 124/200\n",
            "6/6 [==============================] - 15s 3s/step - loss: 0.8593 - acc: 0.6667 - f1_m: 0.6055 - val_loss: 0.7509 - val_acc: 0.6250 - val_f1_m: 0.4738\n",
            "Epoch 125/200\n",
            "6/6 [==============================] - 16s 3s/step - loss: 0.6992 - acc: 0.7417 - f1_m: 0.6742 - val_loss: 0.8463 - val_acc: 0.6750 - val_f1_m: 0.5866\n",
            "Epoch 126/200\n",
            "6/6 [==============================] - 16s 3s/step - loss: 0.8570 - acc: 0.6250 - f1_m: 0.5923 - val_loss: 0.9476 - val_acc: 0.5750 - val_f1_m: 0.5281\n",
            "Epoch 127/200\n",
            "6/6 [==============================] - 14s 2s/step - loss: 0.8630 - acc: 0.6574 - f1_m: 0.6015 - val_loss: 1.1756 - val_acc: 0.5500 - val_f1_m: 0.5020\n",
            "Epoch 128/200\n",
            "6/6 [==============================] - ETA: 0s - loss: 0.8468 - acc: 0.6167 - f1_m: 0.5746"
          ]
        },
        {
          "output_type": "stream",
          "name": "stderr",
          "text": [
            "WARNING:absl:Found untraced functions such as _jit_compiled_convolution_op, _jit_compiled_convolution_op, _jit_compiled_convolution_op while saving (showing 3 of 3). These functions will not be directly callable after loading.\n"
          ]
        },
        {
          "output_type": "stream",
          "name": "stdout",
          "text": [
            "\b\b\b\b\b\b\b\b\b\b\b\b\b\b\b\b\b\b\b\b\b\b\b\b\b\b\b\b\b\b\b\b\b\b\b\b\b\b\b\b\b\b\b\b\b\b\b\b\b\b\b\b\b\b\b\b\b\b\b\b\b\b\b\b\b\b\b\b\b\b\b\b\b\b\b\b\b\b\b\b\b\b\b\b\b\b\b\b\b\b\r6/6 [==============================] - 51s 10s/step - loss: 0.8468 - acc: 0.6167 - f1_m: 0.5746 - val_loss: 0.6518 - val_acc: 0.7250 - val_f1_m: 0.6266\n",
            "Epoch 129/200\n",
            "6/6 [==============================] - 15s 3s/step - loss: 0.6461 - acc: 0.7083 - f1_m: 0.6990 - val_loss: 1.3295 - val_acc: 0.5250 - val_f1_m: 0.4654\n",
            "Epoch 130/200\n",
            "6/6 [==============================] - 18s 3s/step - loss: 0.7953 - acc: 0.7167 - f1_m: 0.6323 - val_loss: 0.7949 - val_acc: 0.7250 - val_f1_m: 0.7152\n",
            "Epoch 131/200\n",
            "6/6 [==============================] - ETA: 0s - loss: 0.9256 - acc: 0.6250 - f1_m: 0.5904"
          ]
        },
        {
          "output_type": "stream",
          "name": "stderr",
          "text": [
            "WARNING:absl:Found untraced functions such as _jit_compiled_convolution_op, _jit_compiled_convolution_op, _jit_compiled_convolution_op while saving (showing 3 of 3). These functions will not be directly callable after loading.\n"
          ]
        },
        {
          "output_type": "stream",
          "name": "stdout",
          "text": [
            "\b\b\b\b\b\b\b\b\b\b\b\b\b\b\b\b\b\b\b\b\b\b\b\b\b\b\b\b\b\b\b\b\b\b\b\b\b\b\b\b\b\b\b\b\b\b\b\b\b\b\b\b\b\b\b\b\b\b\b\b\b\b\b\b\b\b\b\b\b\b\b\b\b\b\b\b\b\b\b\b\b\b\b\b\b\b\b\b\b\b\r6/6 [==============================] - 52s 10s/step - loss: 0.9256 - acc: 0.6250 - f1_m: 0.5904 - val_loss: 0.6428 - val_acc: 0.7750 - val_f1_m: 0.7243\n",
            "Epoch 132/200\n",
            "6/6 [==============================] - 15s 3s/step - loss: 0.8074 - acc: 0.6833 - f1_m: 0.6777 - val_loss: 0.8673 - val_acc: 0.6750 - val_f1_m: 0.6256\n",
            "Epoch 133/200\n",
            "6/6 [==============================] - 17s 3s/step - loss: 0.7708 - acc: 0.6917 - f1_m: 0.5929 - val_loss: 0.6733 - val_acc: 0.8000 - val_f1_m: 0.6303\n",
            "Epoch 134/200\n",
            "6/6 [==============================] - 16s 3s/step - loss: 0.8164 - acc: 0.6500 - f1_m: 0.5564 - val_loss: 0.9358 - val_acc: 0.6500 - val_f1_m: 0.5081\n",
            "Epoch 135/200\n",
            "6/6 [==============================] - 14s 2s/step - loss: 0.7914 - acc: 0.6389 - f1_m: 0.6274 - val_loss: 1.0095 - val_acc: 0.6000 - val_f1_m: 0.6111\n",
            "Epoch 136/200\n",
            "6/6 [==============================] - 17s 3s/step - loss: 0.9447 - acc: 0.6000 - f1_m: 0.5504 - val_loss: 0.6655 - val_acc: 0.7750 - val_f1_m: 0.6338\n",
            "Epoch 137/200\n",
            "6/6 [==============================] - 16s 3s/step - loss: 0.8223 - acc: 0.7083 - f1_m: 0.6139 - val_loss: 0.8711 - val_acc: 0.6250 - val_f1_m: 0.5914\n",
            "Epoch 138/200\n",
            "6/6 [==============================] - 15s 3s/step - loss: 0.9091 - acc: 0.5417 - f1_m: 0.5272 - val_loss: 1.0508 - val_acc: 0.5500 - val_f1_m: 0.4483\n",
            "Epoch 139/200\n",
            "6/6 [==============================] - 17s 3s/step - loss: 0.7819 - acc: 0.6500 - f1_m: 0.6288 - val_loss: 0.9773 - val_acc: 0.6250 - val_f1_m: 0.5954\n",
            "Epoch 140/200\n",
            "6/6 [==============================] - 15s 3s/step - loss: 0.8107 - acc: 0.6583 - f1_m: 0.6117 - val_loss: 0.8901 - val_acc: 0.5000 - val_f1_m: 0.4492\n",
            "Epoch 141/200\n",
            "6/6 [==============================] - 15s 3s/step - loss: 0.9449 - acc: 0.5917 - f1_m: 0.5433 - val_loss: 0.7291 - val_acc: 0.7250 - val_f1_m: 0.5937\n",
            "Epoch 142/200\n",
            "6/6 [==============================] - 15s 3s/step - loss: 0.8364 - acc: 0.6389 - f1_m: 0.6238 - val_loss: 1.0360 - val_acc: 0.6500 - val_f1_m: 0.5938\n",
            "Epoch 143/200\n",
            "6/6 [==============================] - 14s 2s/step - loss: 0.6017 - acc: 0.7407 - f1_m: 0.6967 - val_loss: 0.8503 - val_acc: 0.6750 - val_f1_m: 0.6389\n",
            "Epoch 144/200\n",
            "6/6 [==============================] - 15s 3s/step - loss: 0.7278 - acc: 0.6500 - f1_m: 0.6373 - val_loss: 0.6885 - val_acc: 0.7750 - val_f1_m: 0.6765\n",
            "Epoch 145/200\n",
            "6/6 [==============================] - 16s 3s/step - loss: 0.7326 - acc: 0.6500 - f1_m: 0.6330 - val_loss: 0.8361 - val_acc: 0.7250 - val_f1_m: 0.6361\n",
            "Epoch 146/200\n",
            "6/6 [==============================] - 15s 3s/step - loss: 0.8410 - acc: 0.6917 - f1_m: 0.6541 - val_loss: 1.5520 - val_acc: 0.4750 - val_f1_m: 0.4595\n",
            "Epoch 147/200\n",
            "6/6 [==============================] - 14s 2s/step - loss: 0.8668 - acc: 0.6389 - f1_m: 0.6218 - val_loss: 0.6757 - val_acc: 0.6500 - val_f1_m: 0.6411\n",
            "Epoch 148/200\n",
            "6/6 [==============================] - 15s 3s/step - loss: 0.9163 - acc: 0.6333 - f1_m: 0.5278 - val_loss: 0.8704 - val_acc: 0.6500 - val_f1_m: 0.5706\n",
            "Epoch 149/200\n",
            "6/6 [==============================] - 16s 3s/step - loss: 0.8356 - acc: 0.6083 - f1_m: 0.5692 - val_loss: 0.9418 - val_acc: 0.5500 - val_f1_m: 0.4153\n",
            "Epoch 150/200\n",
            "6/6 [==============================] - 15s 3s/step - loss: 0.7809 - acc: 0.6750 - f1_m: 0.6258 - val_loss: 0.7482 - val_acc: 0.6500 - val_f1_m: 0.5716\n",
            "Epoch 151/200\n",
            "6/6 [==============================] - 15s 3s/step - loss: 0.8735 - acc: 0.6083 - f1_m: 0.6023 - val_loss: 0.7346 - val_acc: 0.6750 - val_f1_m: 0.6237\n",
            "Epoch 152/200\n",
            "6/6 [==============================] - 18s 3s/step - loss: 0.7972 - acc: 0.7083 - f1_m: 0.6458 - val_loss: 0.7242 - val_acc: 0.7250 - val_f1_m: 0.7222\n",
            "Epoch 153/200\n",
            "6/6 [==============================] - 13s 2s/step - loss: 0.8674 - acc: 0.6759 - f1_m: 0.6600 - val_loss: 0.6963 - val_acc: 0.7000 - val_f1_m: 0.6647\n",
            "Epoch 154/200\n",
            "6/6 [==============================] - 14s 2s/step - loss: 0.7726 - acc: 0.6917 - f1_m: 0.6097 - val_loss: 0.8449 - val_acc: 0.5500 - val_f1_m: 0.5714\n",
            "Epoch 155/200\n",
            "6/6 [==============================] - 15s 3s/step - loss: 0.7149 - acc: 0.6667 - f1_m: 0.6710 - val_loss: 0.8381 - val_acc: 0.6250 - val_f1_m: 0.5954\n",
            "Epoch 156/200\n",
            "6/6 [==============================] - 14s 3s/step - loss: 0.7907 - acc: 0.6759 - f1_m: 0.6629 - val_loss: 0.7872 - val_acc: 0.8250 - val_f1_m: 0.7247\n",
            "Epoch 157/200\n",
            "6/6 [==============================] - 15s 3s/step - loss: 0.7403 - acc: 0.7000 - f1_m: 0.6464 - val_loss: 0.7012 - val_acc: 0.7250 - val_f1_m: 0.6944\n",
            "Epoch 158/200\n",
            "6/6 [==============================] - 15s 2s/step - loss: 0.7817 - acc: 0.6333 - f1_m: 0.6511 - val_loss: 1.3429 - val_acc: 0.5500 - val_f1_m: 0.5163\n",
            "Epoch 159/200\n",
            "6/6 [==============================] - 15s 3s/step - loss: 0.8792 - acc: 0.6111 - f1_m: 0.6152 - val_loss: 0.9562 - val_acc: 0.5500 - val_f1_m: 0.5556\n",
            "Epoch 160/200\n",
            "6/6 [==============================] - 15s 3s/step - loss: 0.7814 - acc: 0.6750 - f1_m: 0.6541 - val_loss: 0.9852 - val_acc: 0.5750 - val_f1_m: 0.5152\n",
            "Epoch 161/200\n",
            "6/6 [==============================] - 16s 3s/step - loss: 0.8695 - acc: 0.6083 - f1_m: 0.5849 - val_loss: 0.8155 - val_acc: 0.7250 - val_f1_m: 0.6275\n",
            "Epoch 162/200\n",
            "6/6 [==============================] - 15s 3s/step - loss: 0.7497 - acc: 0.7083 - f1_m: 0.6478 - val_loss: 1.1340 - val_acc: 0.6500 - val_f1_m: 0.6331\n",
            "Epoch 163/200\n",
            "6/6 [==============================] - 16s 3s/step - loss: 0.8397 - acc: 0.6750 - f1_m: 0.6354 - val_loss: 1.4349 - val_acc: 0.5250 - val_f1_m: 0.4786\n",
            "Epoch 164/200\n",
            "6/6 [==============================] - 13s 2s/step - loss: 0.9343 - acc: 0.5741 - f1_m: 0.5412 - val_loss: 0.8403 - val_acc: 0.7000 - val_f1_m: 0.6190\n",
            "Epoch 165/200\n",
            "6/6 [==============================] - 13s 2s/step - loss: 0.8872 - acc: 0.6574 - f1_m: 0.6208 - val_loss: 0.7799 - val_acc: 0.6250 - val_f1_m: 0.5521\n",
            "Epoch 166/200\n",
            "6/6 [==============================] - 16s 2s/step - loss: 0.7268 - acc: 0.6417 - f1_m: 0.6382 - val_loss: 0.7021 - val_acc: 0.7250 - val_f1_m: 0.6268\n",
            "Epoch 167/200\n",
            "6/6 [==============================] - 15s 3s/step - loss: 0.7313 - acc: 0.7250 - f1_m: 0.6559 - val_loss: 0.8592 - val_acc: 0.7000 - val_f1_m: 0.6571\n",
            "Epoch 168/200\n",
            "6/6 [==============================] - 13s 2s/step - loss: 0.8189 - acc: 0.6481 - f1_m: 0.6352 - val_loss: 0.8443 - val_acc: 0.7500 - val_f1_m: 0.6923\n",
            "Epoch 169/200\n",
            "6/6 [==============================] - 15s 2s/step - loss: 0.8005 - acc: 0.6167 - f1_m: 0.6057 - val_loss: 0.8538 - val_acc: 0.6750 - val_f1_m: 0.6506\n",
            "Epoch 170/200\n",
            "6/6 [==============================] - 16s 3s/step - loss: 0.7546 - acc: 0.6417 - f1_m: 0.6216 - val_loss: 0.9871 - val_acc: 0.6000 - val_f1_m: 0.5429\n",
            "Epoch 171/200\n",
            "6/6 [==============================] - 15s 3s/step - loss: 0.7600 - acc: 0.6833 - f1_m: 0.6752 - val_loss: 0.7476 - val_acc: 0.6500 - val_f1_m: 0.6577\n",
            "Epoch 172/200\n",
            "6/6 [==============================] - 16s 3s/step - loss: 0.7371 - acc: 0.7250 - f1_m: 0.7181 - val_loss: 0.9622 - val_acc: 0.6750 - val_f1_m: 0.5588\n",
            "Epoch 173/200\n",
            "6/6 [==============================] - 15s 3s/step - loss: 0.6465 - acc: 0.7667 - f1_m: 0.7221 - val_loss: 0.9541 - val_acc: 0.6000 - val_f1_m: 0.5882\n",
            "Epoch 174/200\n",
            "6/6 [==============================] - 15s 3s/step - loss: 0.7709 - acc: 0.5917 - f1_m: 0.5816 - val_loss: 1.0115 - val_acc: 0.6750 - val_f1_m: 0.6299\n",
            "Epoch 175/200\n",
            "6/6 [==============================] - 16s 3s/step - loss: 0.8752 - acc: 0.6417 - f1_m: 0.6174 - val_loss: 1.0385 - val_acc: 0.6500 - val_f1_m: 0.5736\n",
            "Epoch 176/200\n",
            "6/6 [==============================] - 15s 3s/step - loss: 0.7380 - acc: 0.6917 - f1_m: 0.6972 - val_loss: 1.0240 - val_acc: 0.5500 - val_f1_m: 0.5406\n",
            "Epoch 177/200\n",
            "6/6 [==============================] - 14s 3s/step - loss: 0.8313 - acc: 0.6944 - f1_m: 0.6418 - val_loss: 0.8931 - val_acc: 0.6750 - val_f1_m: 0.5478\n",
            "Epoch 178/200\n",
            "6/6 [==============================] - ETA: 0s - loss: 0.6815 - acc: 0.6750 - f1_m: 0.6403"
          ]
        },
        {
          "output_type": "stream",
          "name": "stderr",
          "text": [
            "WARNING:absl:Found untraced functions such as _jit_compiled_convolution_op, _jit_compiled_convolution_op, _jit_compiled_convolution_op while saving (showing 3 of 3). These functions will not be directly callable after loading.\n"
          ]
        },
        {
          "output_type": "stream",
          "name": "stdout",
          "text": [
            "\b\b\b\b\b\b\b\b\b\b\b\b\b\b\b\b\b\b\b\b\b\b\b\b\b\b\b\b\b\b\b\b\b\b\b\b\b\b\b\b\b\b\b\b\b\b\b\b\b\b\b\b\b\b\b\b\b\b\b\b\b\b\b\b\b\b\b\b\b\b\b\b\b\b\b\b\b\b\b\b\b\b\b\b\b\b\b\b\b\b\r6/6 [==============================] - 45s 8s/step - loss: 0.6815 - acc: 0.6750 - f1_m: 0.6403 - val_loss: 0.6385 - val_acc: 0.6500 - val_f1_m: 0.6769\n",
            "Epoch 179/200\n",
            "6/6 [==============================] - 17s 3s/step - loss: 0.7048 - acc: 0.6417 - f1_m: 0.6303 - val_loss: 0.7563 - val_acc: 0.7500 - val_f1_m: 0.6536\n",
            "Epoch 180/200\n",
            "6/6 [==============================] - 15s 3s/step - loss: 0.6730 - acc: 0.7333 - f1_m: 0.6831 - val_loss: 0.7889 - val_acc: 0.6500 - val_f1_m: 0.5980\n",
            "Epoch 181/200\n",
            "6/6 [==============================] - 15s 2s/step - loss: 0.7752 - acc: 0.7222 - f1_m: 0.7012 - val_loss: 0.7094 - val_acc: 0.7000 - val_f1_m: 0.7475\n",
            "Epoch 182/200\n",
            "6/6 [==============================] - 17s 3s/step - loss: 0.6649 - acc: 0.7417 - f1_m: 0.7152 - val_loss: 0.9197 - val_acc: 0.6750 - val_f1_m: 0.6664\n",
            "Epoch 183/200\n",
            "6/6 [==============================] - 17s 3s/step - loss: 0.6583 - acc: 0.7167 - f1_m: 0.6918 - val_loss: 0.8455 - val_acc: 0.7000 - val_f1_m: 0.6624\n",
            "Epoch 184/200\n",
            "6/6 [==============================] - 14s 3s/step - loss: 0.8104 - acc: 0.6389 - f1_m: 0.6204 - val_loss: 0.6644 - val_acc: 0.8000 - val_f1_m: 0.7738\n",
            "Epoch 185/200\n",
            "6/6 [==============================] - 17s 3s/step - loss: 0.6734 - acc: 0.6917 - f1_m: 0.6679 - val_loss: 0.7905 - val_acc: 0.6000 - val_f1_m: 0.6069\n",
            "Epoch 186/200\n",
            "6/6 [==============================] - 16s 3s/step - loss: 0.6932 - acc: 0.6583 - f1_m: 0.6577 - val_loss: 0.6919 - val_acc: 0.7000 - val_f1_m: 0.6948\n",
            "Epoch 187/200\n",
            "6/6 [==============================] - 16s 3s/step - loss: 0.8137 - acc: 0.6833 - f1_m: 0.6283 - val_loss: 1.1046 - val_acc: 0.5250 - val_f1_m: 0.5217\n",
            "Epoch 188/200\n",
            "6/6 [==============================] - 16s 3s/step - loss: 0.6723 - acc: 0.6852 - f1_m: 0.6767 - val_loss: 0.7300 - val_acc: 0.6000 - val_f1_m: 0.6198\n",
            "Epoch 189/200\n",
            "6/6 [==============================] - 14s 3s/step - loss: 0.7323 - acc: 0.6944 - f1_m: 0.6488 - val_loss: 1.1157 - val_acc: 0.6000 - val_f1_m: 0.6021\n",
            "Epoch 190/200\n",
            "6/6 [==============================] - 16s 3s/step - loss: 0.7363 - acc: 0.7000 - f1_m: 0.6838 - val_loss: 0.8538 - val_acc: 0.7250 - val_f1_m: 0.6847\n",
            "Epoch 191/200\n",
            "6/6 [==============================] - 16s 3s/step - loss: 0.7282 - acc: 0.6750 - f1_m: 0.6390 - val_loss: 0.8435 - val_acc: 0.6500 - val_f1_m: 0.6402\n",
            "Epoch 192/200\n",
            "6/6 [==============================] - ETA: 0s - loss: 0.7105 - acc: 0.6917 - f1_m: 0.6764"
          ]
        },
        {
          "output_type": "stream",
          "name": "stderr",
          "text": [
            "WARNING:absl:Found untraced functions such as _jit_compiled_convolution_op, _jit_compiled_convolution_op, _jit_compiled_convolution_op while saving (showing 3 of 3). These functions will not be directly callable after loading.\n"
          ]
        },
        {
          "output_type": "stream",
          "name": "stdout",
          "text": [
            "\b\b\b\b\b\b\b\b\b\b\b\b\b\b\b\b\b\b\b\b\b\b\b\b\b\b\b\b\b\b\b\b\b\b\b\b\b\b\b\b\b\b\b\b\b\b\b\b\b\b\b\b\b\b\b\b\b\b\b\b\b\b\b\b\b\b\b\b\b\b\b\b\b\b\b\b\b\b\b\b\b\b\b\b\b\b\b\b\b\b\r6/6 [==============================] - 47s 9s/step - loss: 0.7105 - acc: 0.6917 - f1_m: 0.6764 - val_loss: 0.5856 - val_acc: 0.7750 - val_f1_m: 0.7647\n",
            "Epoch 193/200\n",
            "6/6 [==============================] - 17s 3s/step - loss: 0.7151 - acc: 0.7250 - f1_m: 0.6951 - val_loss: 0.8325 - val_acc: 0.6250 - val_f1_m: 0.6198\n",
            "Epoch 194/200\n",
            "6/6 [==============================] - 15s 3s/step - loss: 0.7056 - acc: 0.6667 - f1_m: 0.6634 - val_loss: 0.8520 - val_acc: 0.6500 - val_f1_m: 0.6672\n",
            "Epoch 195/200\n",
            "6/6 [==============================] - 14s 2s/step - loss: 0.6394 - acc: 0.7222 - f1_m: 0.6786 - val_loss: 0.9862 - val_acc: 0.6250 - val_f1_m: 0.6491\n",
            "Epoch 196/200\n",
            "6/6 [==============================] - 16s 3s/step - loss: 0.7080 - acc: 0.7250 - f1_m: 0.6488 - val_loss: 0.8740 - val_acc: 0.6000 - val_f1_m: 0.5430\n",
            "Epoch 197/200\n",
            "6/6 [==============================] - 14s 2s/step - loss: 0.8855 - acc: 0.6204 - f1_m: 0.5981 - val_loss: 0.8796 - val_acc: 0.6000 - val_f1_m: 0.5870\n",
            "Epoch 198/200\n",
            "6/6 [==============================] - 16s 3s/step - loss: 0.7137 - acc: 0.6833 - f1_m: 0.6402 - val_loss: 0.6279 - val_acc: 0.7250 - val_f1_m: 0.7250\n",
            "Epoch 199/200\n",
            "6/6 [==============================] - 16s 3s/step - loss: 0.8137 - acc: 0.6167 - f1_m: 0.6118 - val_loss: 0.6521 - val_acc: 0.7750 - val_f1_m: 0.7222\n",
            "Epoch 200/200\n",
            "6/6 [==============================] - 16s 3s/step - loss: 0.6352 - acc: 0.7083 - f1_m: 0.6694 - val_loss: 0.9483 - val_acc: 0.6750 - val_f1_m: 0.6085\n"
          ]
        }
      ]
    },
    {
      "cell_type": "markdown",
      "source": [
        "# Evaluate the Model"
      ],
      "metadata": {
        "id": "Zhxu4Yk7ogKQ"
      }
    },
    {
      "cell_type": "code",
      "source": [
        "acc = classifier_history.history['acc']\n",
        "val_acc = classifier_history.history['val_acc']\n",
        "loss = classifier_history.history['loss']\n",
        "val_loss = classifier_history.history['val_loss']"
      ],
      "metadata": {
        "id": "uUjC46MR8UkQ"
      },
      "execution_count": null,
      "outputs": []
    },
    {
      "cell_type": "code",
      "source": [
        "import matplotlib.pyplot as plt\n",
        "\n",
        "epochs = range(1, len(acc) + 1)\n",
        "\n",
        "plt.plot(epochs, acc, 'bo', label='Training acc')\n",
        "plt.plot(epochs, val_acc, 'b', label='Validation acc')\n",
        "plt.title('Training and validation accuracy')\n",
        "plt.legend()\n",
        "\n",
        "plt.figure()\n",
        "\n",
        "plt.plot(epochs, loss, 'bo', label='Training loss')\n",
        "plt.plot(epochs, val_loss, 'b', label='Validation loss')\n",
        "plt.title('Training and validation loss')\n",
        "plt.legend()\n",
        "\n",
        "plt.show()"
      ],
      "metadata": {
        "colab": {
          "base_uri": "https://localhost:8080/",
          "height": 887
        },
        "id": "X3Z9vYxK9JjK",
        "outputId": "a99be471-1038-455a-ce9c-de24ea463b95"
      },
      "execution_count": null,
      "outputs": [
        {
          "output_type": "display_data",
          "data": {
            "text/plain": [
              "<Figure size 640x480 with 1 Axes>"
            ],
            "image/png": "[encoded data removed]"
          },
          "metadata": {}
        },
        {
          "output_type": "display_data",
          "data": {
            "text/plain": [
              "<Figure size 640x480 with 1 Axes>"
            ],
            "image/png": "[encoded data removed]"
          },
          "metadata": {}
        }
      ]
    },
    {
      "cell_type": "code",
      "source": [
        "f1_score = classifier_history.history['f1_m']\n",
        "val_f1_score = classifier_history.history['val_f1_m']"
      ],
      "metadata": {
        "id": "o5oH2Zsz9Tkz"
      },
      "execution_count": null,
      "outputs": []
    },
    {
      "cell_type": "code",
      "source": [
        "epochs = range(1, len(acc) + 1)\n",
        "\n",
        "plt.plot(epochs, f1_score, 'bo', label='Training F1 Score')\n",
        "plt.plot(epochs, val_f1_score, 'b', label='Validation F1 Score')\n",
        "plt.title('Training and validation f1 score')\n",
        "plt.legend()\n",
        "\n",
        "plt.figure()"
      ],
      "metadata": {
        "colab": {
          "base_uri": "https://localhost:8080/",
          "height": 487
        },
        "id": "C30dAVvB9q_h",
        "outputId": "bf893359-445b-4b94-e663-6e2dc39e64ec"
      },
      "execution_count": null,
      "outputs": [
        {
          "output_type": "execute_result",
          "data": {
            "text/plain": [
              "<Figure size 640x480 with 0 Axes>"
            ]
          },
          "metadata": {},
          "execution_count": 47
        },
        {
          "output_type": "display_data",
          "data": {
            "text/plain": [
              "<Figure size 640x480 with 1 Axes>"
            ],
            "image/png": "[encoded data removed]"
          },
          "metadata": {}
        },
        {
          "output_type": "display_data",
          "data": {
            "text/plain": [
              "<Figure size 640x480 with 0 Axes>"
            ]
          },
          "metadata": {}
        }
      ]
    },
    {
      "cell_type": "code",
      "source": [
        "# Save history\n",
        "\n",
        "import pickle\n",
        "HISTORY_PATH = f\"{ROOT_PATH}/Dataset/model_checkpoints/best_model5_simple_augmented/history\"\n",
        "with open(HISTORY_PATH, 'wb') as file_pi:\n",
        "    pickle.dump(classifier_history.history, file_pi)"
      ],
      "metadata": {
        "id": "0oEQGuaqJcef"
      },
      "execution_count": null,
      "outputs": []
    },
    {
      "cell_type": "code",
      "source": [
        "with open(HISTORY_PATH, \"rb\") as file_pi:\n",
        "    history = pickle.load(file_pi)"
      ],
      "metadata": {
        "id": "Zfa5m2zjJg7i"
      },
      "execution_count": null,
      "outputs": []
    },
    {
      "cell_type": "code",
      "source": [
        "acc = history['acc']\n",
        "val_acc = history['val_acc']\n",
        "\n",
        "epochs = range(1, len(acc) + 1)\n",
        "\n",
        "plt.plot(epochs, acc, 'bo', label='Training acc')\n",
        "plt.plot(epochs, val_acc, 'b', label='Validation acc')\n",
        "plt.title('Training and validation accuracy')\n",
        "plt.legend()\n",
        "\n",
        "plt.figure()"
      ],
      "metadata": {
        "colab": {
          "base_uri": "https://localhost:8080/",
          "height": 487
        },
        "id": "wpc58IXeJ2sj",
        "outputId": "0dfd867e-da75-4f5d-a95a-a5a18d699052"
      },
      "execution_count": null,
      "outputs": [
        {
          "output_type": "execute_result",
          "data": {
            "text/plain": [
              "<Figure size 640x480 with 0 Axes>"
            ]
          },
          "metadata": {},
          "execution_count": 52
        },
        {
          "output_type": "display_data",
          "data": {
            "text/plain": [
              "<Figure size 640x480 with 1 Axes>"
            ],
            "image/png": "[encoded data removed]"
          },
          "metadata": {}
        },
        {
          "output_type": "display_data",
          "data": {
            "text/plain": [
              "<Figure size 640x480 with 0 Axes>"
            ]
          },
          "metadata": {}
        }
      ]
    },
    {
      "cell_type": "markdown",
      "source": [
        "# Load Model"
      ],
      "metadata": {
        "id": "egFFjxNjd06q"
      }
    },
    {
      "cell_type": "code",
      "source": [
        "CHECKPOINT_PATH = f\"{ROOT_PATH}/Dataset/model_checkpoints/best_model5_simple_augmented/best_model\"\n",
        "loaded_model = tf.keras.models.load_model(CHECKPOINT_PATH, custom_objects={'f1_m': f1_m})"
      ],
      "metadata": {
        "id": "YCgkJhjSd0Ld"
      },
      "execution_count": null,
      "outputs": []
    },
    {
      "cell_type": "code",
      "source": [
        "## NOTE: If you are using Safari and this cell throws an error,\n",
        "## please skip this block and run the next one instead.\n",
        "\n",
        "import numpy as np\n",
        "\n",
        "from google.colab import files\n",
        "from tensorflow.keras.utils import load_img, img_to_array\n",
        "\n",
        "uploaded=files.upload()\n",
        "\n",
        "for fn in uploaded.keys():\n",
        "\n",
        "  # predicting images\n",
        "  path=fn\n",
        "  img=load_img(path, target_size=(IMAGE_HEIGHT, IMAGE_WIDTH))\n",
        "\n",
        "  x=img_to_array(img)\n",
        "  x /= 255\n",
        "  x=np.expand_dims(x, axis=0)\n",
        "  images = np.vstack([x])\n",
        "\n",
        "  pred = loaded_model.predict(images, batch_size=10)\n",
        "\n",
        "  print(pred)"
      ],
      "metadata": {
        "id": "MAAN3NgqKGj6",
        "colab": {
          "base_uri": "https://localhost:8080/",
          "height": 38
        },
        "outputId": "bf38914f-43ea-4953-9998-1315f096bb54"
      },
      "execution_count": null,
      "outputs": [
        {
          "output_type": "display_data",
          "data": {
            "text/plain": [
              "<IPython.core.display.HTML object>"
            ],
            "text/html": [
              "\n",
              "     <input type=\"file\" id=\"files-f808790d-b52e-44af-aafd-829f2a22d21b\" name=\"files[]\" multiple disabled\n",
              "        style=\"border:none\" />\n",
              "     <output id=\"result-f808790d-b52e-44af-aafd-829f2a22d21b\">\n",
              "      Upload widget is only available when the cell has been executed in the\n",
              "      current browser session. Please rerun this cell to enable.\n",
              "      </output>\n",
              "      <script>// Copyright 2017 Google LLC\n",
              "//\n",
              "// Licensed under the Apache License, Version 2.0 (the \"License\");\n",
              "// you may not use this file except in compliance with the License.\n",
              "// You may obtain a copy of the License at\n",
              "//\n",
              "//      http://www.apache.org/licenses/LICENSE-2.0\n",
              "//\n",
              "// Unless required by applicable law or agreed to in writing, software\n",
              "// distributed under the License is distributed on an \"AS IS\" BASIS,\n",
              "// WITHOUT WARRANTIES OR CONDITIONS OF ANY KIND, either express or implied.\n",
              "// See the License for the specific language governing permissions and\n",
              "// limitations under the License.\n",
              "\n",
              "/**\n",
              " * @fileoverview Helpers for google.colab Python module.\n",
              " */\n",
              "(function(scope) {\n",
              "function span(text, styleAttributes = {}) {\n",
              "  const element = document.createElement('span');\n",
              "  element.textContent = text;\n",
              "  for (const key of Object.keys(styleAttributes)) {\n",
              "    element.style[key] = styleAttributes[key];\n",
              "  }\n",
              "  return element;\n",
              "}\n",
              "\n",
              "// Max number of bytes which will be uploaded at a time.\n",
              "const MAX_PAYLOAD_SIZE = 100 * 1024;\n",
              "\n",
              "function _uploadFiles(inputId, outputId) {\n",
              "  const steps = uploadFilesStep(inputId, outputId);\n",
              "  const outputElement = document.getElementById(outputId);\n",
              "  // Cache steps on the outputElement to make it available for the next call\n",
              "  // to uploadFilesContinue from Python.\n",
              "  outputElement.steps = steps;\n",
              "\n",
              "  return _uploadFilesContinue(outputId);\n",
              "}\n",
              "\n",
              "// This is roughly an async generator (not supported in the browser yet),\n",
              "// where there are multiple asynchronous steps and the Python side is going\n",
              "// to poll for completion of each step.\n",
              "// This uses a Promise to block the python side on completion of each step,\n",
              "// then passes the result of the previous step as the input to the next step.\n",
              "function _uploadFilesContinue(outputId) {\n",
              "  const outputElement = document.getElementById(outputId);\n",
              "  const steps = outputElement.steps;\n",
              "\n",
              "  const next = steps.next(outputElement.lastPromiseValue);\n",
              "  return Promise.resolve(next.value.promise).then((value) => {\n",
              "    // Cache the last promise value to make it available to the next\n",
              "    // step of the generator.\n",
              "    outputElement.lastPromiseValue = value;\n",
              "    return next.value.response;\n",
              "  });\n",
              "}\n",
              "\n",
              "/**\n",
              " * Generator function which is called between each async step of the upload\n",
              " * process.\n",
              " * @param {string} inputId Element ID of the input file picker element.\n",
              " * @param {string} outputId Element ID of the output display.\n",
              " * @return {!Iterable<!Object>} Iterable of next steps.\n",
              " */\n",
              "function* uploadFilesStep(inputId, outputId) {\n",
              "  const inputElement = document.getElementById(inputId);\n",
              "  inputElement.disabled = false;\n",
              "\n",
              "  const outputElement = document.getElementById(outputId);\n",
              "  outputElement.innerHTML = '';\n",
              "\n",
              "  const pickedPromise = new Promise((resolve) => {\n",
              "    inputElement.addEventListener('change', (e) => {\n",
              "      resolve(e.target.files);\n",
              "    });\n",
              "  });\n",
              "\n",
              "  const cancel = document.createElement('button');\n",
              "  inputElement.parentElement.appendChild(cancel);\n",
              "  cancel.textContent = 'Cancel upload';\n",
              "  const cancelPromise = new Promise((resolve) => {\n",
              "    cancel.onclick = () => {\n",
              "      resolve(null);\n",
              "    };\n",
              "  });\n",
              "\n",
              "  // Wait for the user to pick the files.\n",
              "  const files = yield {\n",
              "    promise: Promise.race([pickedPromise, cancelPromise]),\n",
              "    response: {\n",
              "      action: 'starting',\n",
              "    }\n",
              "  };\n",
              "\n",
              "  cancel.remove();\n",
              "\n",
              "  // Disable the input element since further picks are not allowed.\n",
              "  inputElement.disabled = true;\n",
              "\n",
              "  if (!files) {\n",
              "    return {\n",
              "      response: {\n",
              "        action: 'complete',\n",
              "      }\n",
              "    };\n",
              "  }\n",
              "\n",
              "  for (const file of files) {\n",
              "    const li = document.createElement('li');\n",
              "    li.append(span(file.name, {fontWeight: 'bold'}));\n",
              "    li.append(span(\n",
              "        `(${file.type || 'n/a'}) - ${file.size} bytes, ` +\n",
              "        `last modified: ${\n",
              "            file.lastModifiedDate ? file.lastModifiedDate.toLocaleDateString() :\n",
              "                                    'n/a'} - `));\n",
              "    const percent = span('0% done');\n",
              "    li.appendChild(percent);\n",
              "\n",
              "    outputElement.appendChild(li);\n",
              "\n",
              "    const fileDataPromise = new Promise((resolve) => {\n",
              "      const reader = new FileReader();\n",
              "      reader.onload = (e) => {\n",
              "        resolve(e.target.result);\n",
              "      };\n",
              "      reader.readAsArrayBuffer(file);\n",
              "    });\n",
              "    // Wait for the data to be ready.\n",
              "    let fileData = yield {\n",
              "      promise: fileDataPromise,\n",
              "      response: {\n",
              "        action: 'continue',\n",
              "      }\n",
              "    };\n",
              "\n",
              "    // Use a chunked sending to avoid message size limits. See b/62115660.\n",
              "    let position = 0;\n",
              "    do {\n",
              "      const length = Math.min(fileData.byteLength - position, MAX_PAYLOAD_SIZE);\n",
              "      const chunk = new Uint8Array(fileData, position, length);\n",
              "      position += length;\n",
              "\n",
              "      const base64 = btoa(String.fromCharCode.apply(null, chunk));\n",
              "      yield {\n",
              "        response: {\n",
              "          action: 'append',\n",
              "          file: file.name,\n",
              "          data: base64,\n",
              "        },\n",
              "      };\n",
              "\n",
              "      let percentDone = fileData.byteLength === 0 ?\n",
              "          100 :\n",
              "          Math.round((position / fileData.byteLength) * 100);\n",
              "      percent.textContent = `${percentDone}% done`;\n",
              "\n",
              "    } while (position < fileData.byteLength);\n",
              "  }\n",
              "\n",
              "  // All done.\n",
              "  yield {\n",
              "    response: {\n",
              "      action: 'complete',\n",
              "    }\n",
              "  };\n",
              "}\n",
              "\n",
              "scope.google = scope.google || {};\n",
              "scope.google.colab = scope.google.colab || {};\n",
              "scope.google.colab._files = {\n",
              "  _uploadFiles,\n",
              "  _uploadFilesContinue,\n",
              "};\n",
              "})(self);\n",
              "</script> "
            ]
          },
          "metadata": {}
        }
      ]
    },
    {
      "cell_type": "code",
      "source": [],
      "metadata": {
        "id": "mMb8C0eUglYn"
      },
      "execution_count": null,
      "outputs": []
    }
  ]
}