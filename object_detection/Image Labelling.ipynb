{
 "cells": [
  {
   "cell_type": "markdown",
   "metadata": {},
   "source": [
    "# Image Labelling using LabelImg"
   ]
  },
  {
   "cell_type": "code",
   "execution_count": 2,
   "metadata": {},
   "outputs": [],
   "source": [
    "import os"
   ]
  },
  {
   "cell_type": "code",
   "execution_count": 2,
   "metadata": {
    "scrolled": true
   },
   "outputs": [
    {
     "name": "stdout",
     "output_type": "stream",
     "text": [
      "Requirement already satisfied: pyqt5 in c:\\users\\acer\\anaconda3\\lib\\site-packages (5.15.7)"
     ]
    },
    {
     "name": "stderr",
     "output_type": "stream",
     "text": [
      "ERROR: Could not install packages due to an OSError: [WinError 5] Access is denied: 'C:\\\\Users\\\\ACER\\\\anaconda3\\\\Lib\\\\site-packages\\\\~xml\\\\etree.cp310-win_amd64.pyd'\n",
      "Consider using the `--user` option or check the permissions.\n",
      "\n"
     ]
    },
    {
     "name": "stdout",
     "output_type": "stream",
     "text": [
      "\n",
      "Collecting pyqt5\n",
      "  Using cached PyQt5-5.15.9-cp37-abi3-win_amd64.whl (6.8 MB)\n",
      "Requirement already satisfied: lxml in c:\\users\\acer\\anaconda3\\lib\\site-packages (4.9.1)\n",
      "Collecting lxml\n",
      "  Using cached lxml-4.9.2-cp310-cp310-win_amd64.whl (3.8 MB)\n",
      "Requirement already satisfied: PyQt5-sip<13,>=12.11 in c:\\users\\acer\\anaconda3\\lib\\site-packages (from pyqt5) (12.11.0)\n",
      "Collecting PyQt5-Qt5>=5.15.2\n",
      "  Downloading PyQt5_Qt5-5.15.2-py3-none-win_amd64.whl (50.1 MB)\n",
      "     ---------------------------------------- 50.1/50.1 MB 2.4 MB/s eta 0:00:00\n",
      "Installing collected packages: PyQt5-Qt5, pyqt5, lxml\n",
      "  Attempting uninstall: pyqt5\n",
      "    Found existing installation: PyQt5 5.15.7\n",
      "    Uninstalling PyQt5-5.15.7:\n",
      "      Successfully uninstalled PyQt5-5.15.7\n",
      "  Attempting uninstall: lxml\n",
      "    Found existing installation: lxml 4.9.1\n",
      "    Uninstalling lxml-4.9.1:\n",
      "      Successfully uninstalled lxml-4.9.1\n"
     ]
    }
   ],
   "source": [
    "!pip install --upgrade pyqt5 lxml"
   ]
  },
  {
   "cell_type": "code",
   "execution_count": 3,
   "metadata": {},
   "outputs": [],
   "source": [
    "LABELIMG_PATH = os.path.join('Tensorflow', 'labelimg')"
   ]
  },
  {
   "cell_type": "code",
   "execution_count": 4,
   "metadata": {},
   "outputs": [],
   "source": [
    "if not os.path.exists(LABELIMG_PATH):\n",
    "    !mkdir {LABELIMG_PATH}\n",
    "    !git clone https://github.com/tzutalin/labelImg {LABELIMG_PATH}"
   ]
  },
  {
   "cell_type": "code",
   "execution_count": 5,
   "metadata": {},
   "outputs": [],
   "source": [
    "if os.name == 'posix':\n",
    "    !make {LABELIMG_PATH} && qt5py3\n",
    "if os.name =='nt':\n",
    "    !cd {LABELIMG_PATH} && pyrcc5 -o libs/resources.py resources.qrc"
   ]
  },
  {
   "cell_type": "code",
   "execution_count": 6,
   "metadata": {},
   "outputs": [
    {
     "name": "stdout",
     "output_type": "stream",
     "text": [
      "Cancel creation.\n",
      "Image:E:\\[Bangkit!]\\Capstone\\Tensorflow\\workspace\\image\\IMG_6032.jpg -> Annotation:E:/[Bangkit!]/Capstone/Tensorflow/workspace/image\\IMG_6032.xml\n",
      "Image:E:\\[Bangkit!]\\Capstone\\Tensorflow\\workspace\\image\\IMG_6033.jpg -> Annotation:E:/[Bangkit!]/Capstone/Tensorflow/workspace/image\\IMG_6033.xml\n",
      "Cancel creation.\n",
      "Image:E:\\[Bangkit!]\\Capstone\\Tensorflow\\workspace\\image\\IMG_6034.jpg -> Annotation:E:/[Bangkit!]/Capstone/Tensorflow/workspace/image\\IMG_6034.xml\n",
      "Image:E:\\[Bangkit!]\\Capstone\\Tensorflow\\workspace\\image\\IMG_6035.jpg -> Annotation:E:/[Bangkit!]/Capstone/Tensorflow/workspace/image\\IMG_6035.xml\n",
      "Image:E:\\[Bangkit!]\\Capstone\\Tensorflow\\workspace\\image\\IMG_6036.jpg -> Annotation:E:/[Bangkit!]/Capstone/Tensorflow/workspace/image\\IMG_6036.xml\n",
      "Image:E:\\[Bangkit!]\\Capstone\\Tensorflow\\workspace\\image\\IMG_6037.jpg -> Annotation:E:/[Bangkit!]/Capstone/Tensorflow/workspace/image\\IMG_6037.xml\n",
      "Image:E:\\[Bangkit!]\\Capstone\\Tensorflow\\workspace\\image\\IMG_6038.jpg -> Annotation:E:/[Bangkit!]/Capstone/Tensorflow/workspace/image\\IMG_6038.xml\n",
      "Image:E:\\[Bangkit!]\\Capstone\\Tensorflow\\workspace\\image\\IMG_6039.jpg -> Annotation:E:/[Bangkit!]/Capstone/Tensorflow/workspace/image\\IMG_6039.xml\n",
      "Image:E:\\[Bangkit!]\\Capstone\\Tensorflow\\workspace\\image\\IMG_6040.jpg -> Annotation:E:/[Bangkit!]/Capstone/Tensorflow/workspace/image\\IMG_6040.xml\n",
      "Image:E:\\[Bangkit!]\\Capstone\\Tensorflow\\workspace\\image\\IMG_6041.jpg -> Annotation:E:/[Bangkit!]/Capstone/Tensorflow/workspace/image\\IMG_6041.xml\n",
      "Image:E:\\[Bangkit!]\\Capstone\\Tensorflow\\workspace\\image\\IMG_6041.jpg -> Annotation:E:/[Bangkit!]/Capstone/Tensorflow/workspace/image\\IMG_6041.xml\n",
      "Image:E:\\[Bangkit!]\\Capstone\\Tensorflow\\workspace\\image\\IMG_6042.jpg -> Annotation:E:/[Bangkit!]/Capstone/Tensorflow/workspace/image\\IMG_6042.xml\n",
      "Image:E:\\[Bangkit!]\\Capstone\\Tensorflow\\workspace\\image\\IMG_6043.jpg -> Annotation:E:/[Bangkit!]/Capstone/Tensorflow/workspace/image\\IMG_6043.xml\n",
      "Image:E:\\[Bangkit!]\\Capstone\\Tensorflow\\workspace\\image\\IMG_6044.jpg -> Annotation:E:/[Bangkit!]/Capstone/Tensorflow/workspace/image\\IMG_6044.xml\n",
      "Image:E:\\[Bangkit!]\\Capstone\\Tensorflow\\workspace\\image\\IMG_6045.jpg -> Annotation:E:/[Bangkit!]/Capstone/Tensorflow/workspace/image\\IMG_6045.xml\n",
      "Image:E:\\[Bangkit!]\\Capstone\\Tensorflow\\workspace\\image\\IMG_6046.jpg -> Annotation:E:/[Bangkit!]/Capstone/Tensorflow/workspace/image\\IMG_6046.xml\n",
      "Image:E:\\[Bangkit!]\\Capstone\\Tensorflow\\workspace\\image\\IMG_6047.jpg -> Annotation:E:/[Bangkit!]/Capstone/Tensorflow/workspace/image\\IMG_6047.xml\n",
      "Image:E:\\[Bangkit!]\\Capstone\\Tensorflow\\workspace\\image\\IMG_6048.jpg -> Annotation:E:/[Bangkit!]/Capstone/Tensorflow/workspace/image\\IMG_6048.xml\n",
      "Image:E:\\[Bangkit!]\\Capstone\\Tensorflow\\workspace\\image\\IMG_6049.jpg -> Annotation:E:/[Bangkit!]/Capstone/Tensorflow/workspace/image\\IMG_6049.xml\n",
      "Image:E:\\[Bangkit!]\\Capstone\\Tensorflow\\workspace\\image\\IMG_6050.jpg -> Annotation:E:/[Bangkit!]/Capstone/Tensorflow/workspace/image\\IMG_6050.xml\n",
      "Cancel creation.\n",
      "Image:E:\\[Bangkit!]\\Capstone\\Tensorflow\\workspace\\image\\IMG_6051.jpg -> Annotation:E:/[Bangkit!]/Capstone/Tensorflow/workspace/image\\IMG_6051.xml\n",
      "Image:E:\\[Bangkit!]\\Capstone\\Tensorflow\\workspace\\image\\IMG_6052.jpg -> Annotation:E:/[Bangkit!]/Capstone/Tensorflow/workspace/image\\IMG_6052.xml\n",
      "Image:E:\\[Bangkit!]\\Capstone\\Tensorflow\\workspace\\image\\IMG_6053.jpg -> Annotation:E:/[Bangkit!]/Capstone/Tensorflow/workspace/image\\IMG_6053.xml\n",
      "Image:E:\\[Bangkit!]\\Capstone\\Tensorflow\\workspace\\image\\IMG_6054.jpg -> Annotation:E:/[Bangkit!]/Capstone/Tensorflow/workspace/image\\IMG_6054.xml\n",
      "Image:E:\\[Bangkit!]\\Capstone\\Tensorflow\\workspace\\image\\IMG_6055.jpg -> Annotation:E:/[Bangkit!]/Capstone/Tensorflow/workspace/image\\IMG_6055.xml\n",
      "Image:E:\\[Bangkit!]\\Capstone\\Tensorflow\\workspace\\image\\IMG_6056.jpg -> Annotation:E:/[Bangkit!]/Capstone/Tensorflow/workspace/image\\IMG_6056.xml\n",
      "Image:E:\\[Bangkit!]\\Capstone\\Tensorflow\\workspace\\image\\IMG_6057.jpg -> Annotation:E:/[Bangkit!]/Capstone/Tensorflow/workspace/image\\IMG_6057.xml\n",
      "Image:E:\\[Bangkit!]\\Capstone\\Tensorflow\\workspace\\image\\IMG_6058.jpg -> Annotation:E:/[Bangkit!]/Capstone/Tensorflow/workspace/image\\IMG_6058.xml\n",
      "Image:E:\\[Bangkit!]\\Capstone\\Tensorflow\\workspace\\image\\IMG_6059.jpg -> Annotation:E:/[Bangkit!]/Capstone/Tensorflow/workspace/image\\IMG_6059.xml\n",
      "Image:E:\\[Bangkit!]\\Capstone\\Tensorflow\\workspace\\image\\IMG_6060.jpg -> Annotation:E:/[Bangkit!]/Capstone/Tensorflow/workspace/image\\IMG_6060.xml\n",
      "Image:E:\\[Bangkit!]\\Capstone\\Tensorflow\\workspace\\image\\IMG_6061.jpg -> Annotation:E:/[Bangkit!]/Capstone/Tensorflow/workspace/image\\IMG_6061.xml\n",
      "Image:E:\\[Bangkit!]\\Capstone\\Tensorflow\\workspace\\image\\IMG_6062.jpg -> Annotation:E:/[Bangkit!]/Capstone/Tensorflow/workspace/image\\IMG_6062.xml\n",
      "Image:E:\\[Bangkit!]\\Capstone\\Tensorflow\\workspace\\image\\IMG_6063.jpg -> Annotation:E:/[Bangkit!]/Capstone/Tensorflow/workspace/image\\IMG_6063.xml\n",
      "Image:E:\\[Bangkit!]\\Capstone\\Tensorflow\\workspace\\image\\IMG_6064.jpg -> Annotation:E:/[Bangkit!]/Capstone/Tensorflow/workspace/image\\IMG_6064.xml\n",
      "Image:E:\\[Bangkit!]\\Capstone\\Tensorflow\\workspace\\image\\IMG_6065.jpg -> Annotation:E:/[Bangkit!]/Capstone/Tensorflow/workspace/image\\IMG_6065.xml\n",
      "Image:E:\\[Bangkit!]\\Capstone\\Tensorflow\\workspace\\image\\IMG_6066.jpg -> Annotation:E:/[Bangkit!]/Capstone/Tensorflow/workspace/image\\IMG_6066.xml\n",
      "Image:E:\\[Bangkit!]\\Capstone\\Tensorflow\\workspace\\image\\IMG_6067.jpg -> Annotation:E:/[Bangkit!]/Capstone/Tensorflow/workspace/image\\IMG_6067.xml\n",
      "Image:E:\\[Bangkit!]\\Capstone\\Tensorflow\\workspace\\image\\IMG_6068.jpg -> Annotation:E:/[Bangkit!]/Capstone/Tensorflow/workspace/image\\IMG_6068.xml\n",
      "Image:E:\\[Bangkit!]\\Capstone\\Tensorflow\\workspace\\image\\IMG_6069.jpg -> Annotation:E:/[Bangkit!]/Capstone/Tensorflow/workspace/image\\IMG_6069.xml\n",
      "Image:E:\\[Bangkit!]\\Capstone\\Tensorflow\\workspace\\image\\IMG_6070.jpg -> Annotation:E:/[Bangkit!]/Capstone/Tensorflow/workspace/image\\IMG_6070.xml\n",
      "Image:E:\\[Bangkit!]\\Capstone\\Tensorflow\\workspace\\image\\IMG_6071.jpg -> Annotation:E:/[Bangkit!]/Capstone/Tensorflow/workspace/image\\IMG_6071.xml\n",
      "Image:E:\\[Bangkit!]\\Capstone\\Tensorflow\\workspace\\image\\IMG_6072.jpg -> Annotation:E:/[Bangkit!]/Capstone/Tensorflow/workspace/image\\IMG_6072.xml\n",
      "Image:E:\\[Bangkit!]\\Capstone\\Tensorflow\\workspace\\image\\IMG_6073.jpg -> Annotation:E:/[Bangkit!]/Capstone/Tensorflow/workspace/image\\IMG_6073.xml\n",
      "Image:E:\\[Bangkit!]\\Capstone\\Tensorflow\\workspace\\image\\IMG_6074.jpg -> Annotation:E:/[Bangkit!]/Capstone/Tensorflow/workspace/image\\IMG_6074.xml\n",
      "Image:E:\\[Bangkit!]\\Capstone\\Tensorflow\\workspace\\image\\IMG_6075.jpg -> Annotation:E:/[Bangkit!]/Capstone/Tensorflow/workspace/image\\IMG_6075.xml\n",
      "Image:E:\\[Bangkit!]\\Capstone\\Tensorflow\\workspace\\image\\IMG_6076.jpg -> Annotation:E:/[Bangkit!]/Capstone/Tensorflow/workspace/image\\IMG_6076.xml\n",
      "Image:E:\\[Bangkit!]\\Capstone\\Tensorflow\\workspace\\image\\IMG_6077.jpg -> Annotation:E:/[Bangkit!]/Capstone/Tensorflow/workspace/image\\IMG_6077.xml\n",
      "Image:E:\\[Bangkit!]\\Capstone\\Tensorflow\\workspace\\image\\IMG_6078.jpg -> Annotation:E:/[Bangkit!]/Capstone/Tensorflow/workspace/image\\IMG_6078.xml\n",
      "Image:E:\\[Bangkit!]\\Capstone\\Tensorflow\\workspace\\image\\IMG_6079.jpg -> Annotation:E:/[Bangkit!]/Capstone/Tensorflow/workspace/image\\IMG_6079.xml\n",
      "Image:E:\\[Bangkit!]\\Capstone\\Tensorflow\\workspace\\image\\IMG_6080.jpg -> Annotation:E:/[Bangkit!]/Capstone/Tensorflow/workspace/image\\IMG_6080.xml\n",
      "Image:E:\\[Bangkit!]\\Capstone\\Tensorflow\\workspace\\image\\IMG_6081.jpg -> Annotation:E:/[Bangkit!]/Capstone/Tensorflow/workspace/image\\IMG_6081.xml\n",
      "Image:E:\\[Bangkit!]\\Capstone\\Tensorflow\\workspace\\image\\IMG_6082.jpg -> Annotation:E:/[Bangkit!]/Capstone/Tensorflow/workspace/image\\IMG_6082.xml\n",
      "Cancel creation.\n",
      "Image:E:\\[Bangkit!]\\Capstone\\Tensorflow\\workspace\\image\\IMG_6083.jpg -> Annotation:E:/[Bangkit!]/Capstone/Tensorflow/workspace/image\\IMG_6083.xml\n",
      "Image:E:\\[Bangkit!]\\Capstone\\Tensorflow\\workspace\\image\\IMG_6084.jpg -> Annotation:E:/[Bangkit!]/Capstone/Tensorflow/workspace/image\\IMG_6084.xml\n",
      "Image:E:\\[Bangkit!]\\Capstone\\Tensorflow\\workspace\\image\\IMG_6085.jpg -> Annotation:E:/[Bangkit!]/Capstone/Tensorflow/workspace/image\\IMG_6085.xml\n",
      "Image:E:\\[Bangkit!]\\Capstone\\Tensorflow\\workspace\\image\\IMG_6086.jpg -> Annotation:E:/[Bangkit!]/Capstone/Tensorflow/workspace/image\\IMG_6086.xml\n",
      "Image:E:\\[Bangkit!]\\Capstone\\Tensorflow\\workspace\\image\\IMG_6087.jpg -> Annotation:E:/[Bangkit!]/Capstone/Tensorflow/workspace/image\\IMG_6087.xml\n",
      "Image:E:\\[Bangkit!]\\Capstone\\Tensorflow\\workspace\\image\\IMG_6088.jpg -> Annotation:E:/[Bangkit!]/Capstone/Tensorflow/workspace/image\\IMG_6088.xml\n"
     ]
    }
   ],
   "source": [
    "!cd {LABELIMG_PATH} && python labelImg.py"
   ]
  },
  {
   "cell_type": "markdown",
   "metadata": {},
   "source": [
    "# Save File"
   ]
  },
  {
   "cell_type": "code",
   "execution_count": 3,
   "metadata": {},
   "outputs": [],
   "source": [
    "TRAIN_PATH = os.path.join('Tensorflow', 'workspace', 'images', 'train')\n",
    "TEST_PATH = os.path.join('Tensorflow', 'workspace', 'images', 'test')\n",
    "ARCHIVE_PATH = os.path.join('Tensorflow', 'workspace', 'images', 'archive.tar.gz')"
   ]
  },
  {
   "cell_type": "code",
   "execution_count": 4,
   "metadata": {},
   "outputs": [],
   "source": [
    "!tar -czf {ARCHIVE_PATH} {TRAIN_PATH} {TEST_PATH}"
   ]
  },
  {
   "cell_type": "code",
   "execution_count": null,
   "metadata": {},
   "outputs": [],
   "source": []
  }
 ],
 "metadata": {
  "kernelspec": {
   "display_name": "Python 3 (ipykernel)",
   "language": "python",
   "name": "python3"
  },
  "language_info": {
   "codemirror_mode": {
    "name": "ipython",
    "version": 3
   },
   "file_extension": ".py",
   "mimetype": "text/x-python",
   "name": "python",
   "nbconvert_exporter": "python",
   "pygments_lexer": "ipython3",
   "version": "3.10.9"
  }
 },
 "nbformat": 4,
 "nbformat_minor": 2
}
